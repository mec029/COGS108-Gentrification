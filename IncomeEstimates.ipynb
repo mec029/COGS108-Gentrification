{
 "cells": [
  {
   "cell_type": "markdown",
   "metadata": {},
   "source": [
    "# Income Estimates\n",
    "\n",
    "cleaned by: Abena Bonsu"
   ]
  },
  {
   "cell_type": "code",
   "execution_count": 13,
   "metadata": {
    "collapsed": true
   },
   "outputs": [],
   "source": [
    "# imports\n",
    "import numpy as np\n",
    "import pandas as pd\n",
    "import scipy as sp\n",
    "import scipy.io as io\n",
    "import scipy.signal as sig\n",
    "import math as math\n",
    "import random \n",
    "from scipy import integrate\n",
    "import matplotlib.pyplot as plt\n",
    "from mpl_toolkits.mplot3d import Axes3D\n",
    "import warnings\n",
    "warnings.filterwarnings(\"ignore\")\n",
    "%matplotlib inline\n",
    "plt.style.use('seaborn-colorblind')\n",
    "plt.rcParams['image.cmap'] = 'RdBu'"
   ]
  },
  {
   "cell_type": "markdown",
   "metadata": {},
   "source": [
    "# 1. Clean Data"
   ]
  },
  {
   "cell_type": "code",
   "execution_count": 14,
   "metadata": {
    "collapsed": false
   },
   "outputs": [
    {
     "name": "stdout",
     "output_type": "stream",
     "text": [
      "Index(['State', 'County', 'Metropolitan area', 'Category', '2007', '2008',\n",
      "       '2009', '2010', '2011', '2012'],\n",
      "      dtype='object')\n"
     ]
    }
   ],
   "source": [
    "# grabbing data from computer\n",
    "filepath = '/Users/Kofro/Desktop/MedianIncomeEstimates.csv'\n",
    "df = pd.read_csv(filepath)\n",
    "\n",
    "# printing different categories\n",
    "print(df.keys())"
   ]
  },
  {
   "cell_type": "code",
   "execution_count": 15,
   "metadata": {
    "collapsed": false
   },
   "outputs": [],
   "source": [
    "# dropping null/irrelevant data\n",
    "df = df.dropna()\n",
    "df = df[['Category', '2007', '2008', '2009', '2010', '2011', '2012']]"
   ]
  },
  {
   "cell_type": "markdown",
   "metadata": {},
   "source": [
    "# Create Dataframes for Each Income Category"
   ]
  },
  {
   "cell_type": "code",
   "execution_count": 16,
   "metadata": {
    "collapsed": false
   },
   "outputs": [],
   "source": [
    "# low income category\n",
    "lowIncome = df.drop(df.index[0:8]) \n",
    "lowIncome = lowIncome.drop(lowIncome.index[8:17])\n",
    "\n",
    "# very low income category\n",
    "veryLowIncome = df.tail(n=8) \n",
    "\n",
    "# lowest income category\n",
    "lowestIncome = df.head(8)"
   ]
  },
  {
   "cell_type": "code",
   "execution_count": 17,
   "metadata": {
    "collapsed": false,
    "scrolled": true
   },
   "outputs": [
    {
     "name": "stdout",
     "output_type": "stream",
     "text": [
      "      2007    2008    2009    2010    2011    2012\n",
      "8   39,300  44,250  46,250  44,000  45,850  45,000\n",
      "9   44,900  50,550  52,900  50,250  52,400  51,400\n",
      "10  50,550  56,900  59,500  56,550  58,950  57,850\n",
      "11  56,150  63,200  66,100  62,800  65,500  64,250\n",
      "12  60,650  68,250  71,400  67,850  70,750  69,400\n",
      "13  65,150  73,300  76,700  72,850  76,000  74,550\n",
      "14  69,650  78,350  81,950  77,900  81,250  79,700\n",
      "15  74,100  83,400  87,250  82,900  86,500  84,850\n",
      "\n",
      "      2007    2008    2009    2010    2011    2012\n",
      "17  24,550  27,650  28,900  27,500  28,700  28,150\n",
      "18  28,100  31,600  33,050  31,400  32,800  32,150\n",
      "19  31,600  35,550  37,150  35,350  36,900  36,150\n",
      "20  35,100  39,500  41,300  39,250  40,950  40,150\n",
      "21  37,900  42,650  44,600  42,400  44,250  43,400\n",
      "22  40,700  45,800  47,900  45,550  47,550  46,600\n",
      "23  43,500  49,000  51,200  48,700  50,800  49,800\n",
      "24  46,350  52,150  54,500  51,850  54,100  53,000\n",
      "\n",
      "     2007    2008    2009    2010    2011    2012\n",
      "0  14,750  16,600  17,350  16,500  17,200  16,900\n",
      "1  16,850  18,950  19,850  18,850  19,650  19,300\n",
      "2  18,950  21,350  22,300  21,200  22,100  21,700\n",
      "3  21,050  23,700  24,800  23,550  24,550  24,100\n",
      "4  22,750  25,600  26,800  25,450  26,550  26,050\n",
      "5  24,400  27,500  28,750  27,350  28,500  28,000\n",
      "6  26,100  29,400  30,750  29,250  30,450  29,900\n",
      "7  27,800  31,300  32,750  31,100  32,450  31,850\n"
     ]
    }
   ],
   "source": [
    "print(lowIncome.drop('Category', 1))\n",
    "print()\n",
    "print(veryLowIncome.drop('Category', 1))\n",
    "print()\n",
    "print(lowestIncome.drop('Category', 1))\n"
   ]
  },
  {
   "cell_type": "markdown",
   "metadata": {},
   "source": [
    "# Pre Visualizations\n",
    "\n",
    "Before further extraction takes place, analyze the data within each category for different groups"
   ]
  },
  {
   "cell_type": "code",
   "execution_count": 18,
   "metadata": {
    "collapsed": false
   },
   "outputs": [],
   "source": [
    "# viewing the housing prices\n",
    "#lowIncomeGraph = lowIncome.copy(deep=True)\n",
    "#lowIncomeGraph['2007'] = [x.replace(',', '') for x in lowIncomeGraph['2007']]\n",
    "#lowIncomeGraph['2007'] = lowIncomeGraph['2007'].astype(float)\n",
    "#lowIncomeGraph['2007']\n",
    "##lowIncome['2007'].hist()\n",
    "#n, bins, patches = plt.hist(lowIncome['2007'], 25, facecolor='orange')\n"
   ]
  },
  {
   "cell_type": "markdown",
   "metadata": {},
   "source": [
    "## Extracting Averages Within Years\n",
    "\n",
    "Create method that will return averages of income price within a certain year. We don't necessarily need to keep the data per year separated out by # of people."
   ]
  },
  {
   "cell_type": "code",
   "execution_count": 19,
   "metadata": {
    "collapsed": false
   },
   "outputs": [],
   "source": [
    "# Method used to return the average of a particular year\n",
    "def getAverage(dataframe2, string):\n",
    "        dataframe = dataframe2\n",
    "        dataframe[string] = [x.replace(',', '') for x in dataframe2[string]]\n",
    "        dataframe[string] = dataframe[string].astype(float)\n",
    "        income = dataframe[string].tolist()\n",
    "        \n",
    "        inc = 0.0\n",
    "        for i in range(len(income)):\n",
    "            inc+=income[i]\n",
    "        inc = inc/8\n",
    "        return inc    "
   ]
  },
  {
   "cell_type": "code",
   "execution_count": 20,
   "metadata": {
    "collapsed": false
   },
   "outputs": [],
   "source": [
    "# Get the averages for low income throughout the different years\n",
    "LowI07 = getAverage(lowIncome, '2007')\n",
    "LowI08 = getAverage(lowIncome, '2008')\n",
    "LowI09 = getAverage(lowIncome, '2009')\n",
    "LowI10 = getAverage(lowIncome, '2010')\n",
    "LowI11 = getAverage(lowIncome, '2011')\n",
    "LowI12 = getAverage(lowIncome, '2012')\n",
    "\n",
    "# Create new dataframe to hold this data\n",
    "df_low = pd.DataFrame(columns=['2007',\n",
    "    '2008','2009','2010', '2011', '2012'],\n",
    "    index=['Low Income'])\n",
    "df_low.loc['Low Income'] = pd.Series(\n",
    "    {'2007':LowI07, '2008':LowI07, \n",
    "     '2008':LowI08, '2009':LowI09, \n",
    "     '2010':LowI10, '2011':LowI11, \n",
    "     '2012':LowI12})"
   ]
  },
  {
   "cell_type": "code",
   "execution_count": 21,
   "metadata": {
    "collapsed": false
   },
   "outputs": [
    {
     "data": {
      "text/html": [
       "<div>\n",
       "<table border=\"1\" class=\"dataframe\">\n",
       "  <thead>\n",
       "    <tr style=\"text-align: right;\">\n",
       "      <th></th>\n",
       "      <th>2007</th>\n",
       "      <th>2008</th>\n",
       "      <th>2009</th>\n",
       "      <th>2010</th>\n",
       "      <th>2011</th>\n",
       "      <th>2012</th>\n",
       "    </tr>\n",
       "  </thead>\n",
       "  <tbody>\n",
       "    <tr>\n",
       "      <th>Low Income</th>\n",
       "      <td>57556.2</td>\n",
       "      <td>64775</td>\n",
       "      <td>67756.2</td>\n",
       "      <td>64387.5</td>\n",
       "      <td>67150</td>\n",
       "      <td>65875</td>\n",
       "    </tr>\n",
       "  </tbody>\n",
       "</table>\n",
       "</div>"
      ],
      "text/plain": [
       "               2007   2008     2009     2010   2011   2012\n",
       "Low Income  57556.2  64775  67756.2  64387.5  67150  65875"
      ]
     },
     "execution_count": 21,
     "metadata": {},
     "output_type": "execute_result"
    }
   ],
   "source": [
    "df_low"
   ]
  },
  {
   "cell_type": "code",
   "execution_count": 22,
   "metadata": {
    "collapsed": false
   },
   "outputs": [],
   "source": [
    "# Get the averages for low income throughout the different years\n",
    "VLowI07 = getAverage(veryLowIncome, '2007')\n",
    "VLowI08 = getAverage(veryLowIncome, '2008')\n",
    "VLowI09 = getAverage(veryLowIncome, '2009')\n",
    "VLowI10 = getAverage(veryLowIncome, '2010')\n",
    "VLowI11 = getAverage(veryLowIncome, '2011')\n",
    "VLowI12 = getAverage(veryLowIncome, '2012')\n",
    "\n",
    "# Create new dataframe to hold this data\n",
    "df_vlow = pd.DataFrame(columns=['2007',\n",
    "    '2008','2009','2010', '2011', '2012'],\n",
    "    index=['Very Low Income'])\n",
    "\n",
    "df_vlow.loc['Very Low Income'] = pd.Series(\n",
    "    {'2007':VLowI07, '2008':VLowI07, \n",
    "     '2008':VLowI08, '2009':VLowI09, \n",
    "     '2010':VLowI10, '2011':VLowI11, \n",
    "     '2012':VLowI12})"
   ]
  },
  {
   "cell_type": "code",
   "execution_count": 23,
   "metadata": {
    "collapsed": false
   },
   "outputs": [
    {
     "data": {
      "text/html": [
       "<div>\n",
       "<table border=\"1\" class=\"dataframe\">\n",
       "  <thead>\n",
       "    <tr style=\"text-align: right;\">\n",
       "      <th></th>\n",
       "      <th>2007</th>\n",
       "      <th>2008</th>\n",
       "      <th>2009</th>\n",
       "      <th>2010</th>\n",
       "      <th>2011</th>\n",
       "      <th>2012</th>\n",
       "    </tr>\n",
       "  </thead>\n",
       "  <tbody>\n",
       "    <tr>\n",
       "      <th>Very Low Income</th>\n",
       "      <td>35975</td>\n",
       "      <td>40487.5</td>\n",
       "      <td>42325</td>\n",
       "      <td>40250</td>\n",
       "      <td>42006.2</td>\n",
       "      <td>41175</td>\n",
       "    </tr>\n",
       "  </tbody>\n",
       "</table>\n",
       "</div>"
      ],
      "text/plain": [
       "                  2007     2008   2009   2010     2011   2012\n",
       "Very Low Income  35975  40487.5  42325  40250  42006.2  41175"
      ]
     },
     "execution_count": 23,
     "metadata": {},
     "output_type": "execute_result"
    }
   ],
   "source": [
    "df_vlow"
   ]
  },
  {
   "cell_type": "code",
   "execution_count": 24,
   "metadata": {
    "collapsed": false
   },
   "outputs": [],
   "source": [
    "# Get the averages for high income throughout the different years\n",
    "LowestI07 = getAverage(lowestIncome, '2007')\n",
    "LowestI08 = getAverage(lowestIncome, '2008')\n",
    "LowestI09 = getAverage(lowestIncome, '2009')\n",
    "LowestI10 = getAverage(lowestIncome, '2010')\n",
    "LowestI11 = getAverage(lowestIncome, '2011')\n",
    "LowestI12 = getAverage(lowestIncome, '2012')\n",
    "\n",
    "# Create new dataframe to hold this data\n",
    "df_lowest = pd.DataFrame(columns=['2007',\n",
    "    '2008','2009','2010', '2011', '2012'], \n",
    "    index=['Lowest Income'])\n",
    "\n",
    "df_lowest.loc['Lowest Income'] = pd.Series(\n",
    "    {'2007':LowestI07, '2008':LowestI07, \n",
    "     '2008':LowestI08, '2009':LowestI09, \n",
    "     '2010':LowestI10, '2011':LowestI11, \n",
    "     '2012':LowestI12})"
   ]
  },
  {
   "cell_type": "code",
   "execution_count": 25,
   "metadata": {
    "collapsed": false
   },
   "outputs": [
    {
     "data": {
      "text/html": [
       "<div>\n",
       "<table border=\"1\" class=\"dataframe\">\n",
       "  <thead>\n",
       "    <tr style=\"text-align: right;\">\n",
       "      <th></th>\n",
       "      <th>2007</th>\n",
       "      <th>2008</th>\n",
       "      <th>2009</th>\n",
       "      <th>2010</th>\n",
       "      <th>2011</th>\n",
       "      <th>2012</th>\n",
       "    </tr>\n",
       "  </thead>\n",
       "  <tbody>\n",
       "    <tr>\n",
       "      <th>Lowest Income</th>\n",
       "      <td>21581.2</td>\n",
       "      <td>24300</td>\n",
       "      <td>25418.8</td>\n",
       "      <td>24156.2</td>\n",
       "      <td>25181.2</td>\n",
       "      <td>24725</td>\n",
       "    </tr>\n",
       "  </tbody>\n",
       "</table>\n",
       "</div>"
      ],
      "text/plain": [
       "                  2007   2008     2009     2010     2011   2012\n",
       "Lowest Income  21581.2  24300  25418.8  24156.2  25181.2  24725"
      ]
     },
     "execution_count": 25,
     "metadata": {},
     "output_type": "execute_result"
    }
   ],
   "source": [
    "df_lowest"
   ]
  },
  {
   "cell_type": "code",
   "execution_count": 26,
   "metadata": {
    "collapsed": false
   },
   "outputs": [],
   "source": [
    "# Merge data sets\n",
    "df_all = df_low.merge(df_vlow, how='outer')\n",
    "df_all = df_all.merge(df_lowest, how='outer')\n",
    "df_all = df_all.rename({0: 'Low Income', 1: 'Very Low Income', \n",
    "                        2: 'Lowest Income'})"
   ]
  },
  {
   "cell_type": "code",
   "execution_count": 27,
   "metadata": {
    "collapsed": false
   },
   "outputs": [
    {
     "data": {
      "text/html": [
       "<div>\n",
       "<table border=\"1\" class=\"dataframe\">\n",
       "  <thead>\n",
       "    <tr style=\"text-align: right;\">\n",
       "      <th></th>\n",
       "      <th>2007</th>\n",
       "      <th>2008</th>\n",
       "      <th>2009</th>\n",
       "      <th>2010</th>\n",
       "      <th>2011</th>\n",
       "      <th>2012</th>\n",
       "    </tr>\n",
       "  </thead>\n",
       "  <tbody>\n",
       "    <tr>\n",
       "      <th>Low Income</th>\n",
       "      <td>57556.25</td>\n",
       "      <td>64775.0</td>\n",
       "      <td>67756.25</td>\n",
       "      <td>64387.50</td>\n",
       "      <td>67150.00</td>\n",
       "      <td>65875.0</td>\n",
       "    </tr>\n",
       "    <tr>\n",
       "      <th>Very Low Income</th>\n",
       "      <td>35975.00</td>\n",
       "      <td>40487.5</td>\n",
       "      <td>42325.00</td>\n",
       "      <td>40250.00</td>\n",
       "      <td>42006.25</td>\n",
       "      <td>41175.0</td>\n",
       "    </tr>\n",
       "    <tr>\n",
       "      <th>Lowest Income</th>\n",
       "      <td>21581.25</td>\n",
       "      <td>24300.0</td>\n",
       "      <td>25418.75</td>\n",
       "      <td>24156.25</td>\n",
       "      <td>25181.25</td>\n",
       "      <td>24725.0</td>\n",
       "    </tr>\n",
       "  </tbody>\n",
       "</table>\n",
       "</div>"
      ],
      "text/plain": [
       "                     2007     2008      2009      2010      2011     2012\n",
       "Low Income       57556.25  64775.0  67756.25  64387.50  67150.00  65875.0\n",
       "Very Low Income  35975.00  40487.5  42325.00  40250.00  42006.25  41175.0\n",
       "Lowest Income    21581.25  24300.0  25418.75  24156.25  25181.25  24725.0"
      ]
     },
     "execution_count": 27,
     "metadata": {},
     "output_type": "execute_result"
    }
   ],
   "source": [
    "df_all"
   ]
  },
  {
   "cell_type": "markdown",
   "metadata": {},
   "source": [
    "# 2. Simple Visualizations"
   ]
  },
  {
   "cell_type": "code",
   "execution_count": 28,
   "metadata": {
    "collapsed": false
   },
   "outputs": [
    {
     "data": {
      "text/plain": [
       "[<matplotlib.lines.Line2D at 0x111e53da0>]"
      ]
     },
     "execution_count": 28,
     "metadata": {},
     "output_type": "execute_result"
    },
    {
     "data": {
      "image/png": "[encoded data removed]",
      "text/plain": [
       "<matplotlib.figure.Figure at 0x10f581320>"
      ]
     },
     "metadata": {},
     "output_type": "display_data"
    }
   ],
   "source": [
    "# Display visualization for Low Income Bracket across the years\n",
    "df_income_all = df_all.copy(deep=True)\n",
    "plt.figure(1,figsize=(15,5))\n",
    "plt.subplot(1,3,1)\n",
    "plt.title('Low Income Estimates: 2007-2012')\n",
    "plt.xlabel('Year')\n",
    "plt.ylabel('Income Estimate')\n",
    "plt.plot(df_income_all.T['Low Income'])\n",
    "\n",
    "# Display visualization for Very Low Income Bracket across the years\n",
    "plt.subplot(1,3,2)\n",
    "plt.title('Very Low Income Estimates: 2007-2012')\n",
    "plt.xlabel('Year')\n",
    "plt.ylabel('Income Estimate')\n",
    "plt.plot(df_income_all.T['Very Low Income'])\n",
    "\n",
    "\n",
    "# Display visualization for Lowest Income Bracket across the years\n",
    "plt.subplot(1,3,3)\n",
    "plt.title('Lowest Income Estimates: 2007-2012')\n",
    "plt.xlabel('Year')\n",
    "plt.ylabel('Income Estimate')\n",
    "plt.plot(df_income_all.T['Lowest Income'])"
   ]
  },
  {
   "cell_type": "code",
   "execution_count": 29,
   "metadata": {
    "collapsed": false
   },
   "outputs": [
    {
     "data": {
      "text/plain": [
       "(array([ 1.,  0.,  0.,  0.,  0.,  0.,  1.,  1.,  1.,  2.]),\n",
       " array([ 21581.25,  21965.  ,  22348.75,  22732.5 ,  23116.25,  23500.  ,\n",
       "         23883.75,  24267.5 ,  24651.25,  25035.  ,  25418.75]),\n",
       " <a list of 10 Patch objects>)"
      ]
     },
     "execution_count": 29,
     "metadata": {},
     "output_type": "execute_result"
    },
    {
     "data": {
      "image/png": "[encoded data removed]",
      "text/plain": [
       "<matplotlib.figure.Figure at 0x112077550>"
      ]
     },
     "metadata": {},
     "output_type": "display_data"
    }
   ],
   "source": [
    "# Display visualization for Low Income Bracket across the years\n",
    "df_income_all = df_all.copy(deep=True)\n",
    "plt.figure(1,figsize=(15,5))\n",
    "plt.subplot(1,3,1)\n",
    "plt.title('Income Estimates: 2007-2012')\n",
    "plt.xlabel('Year')\n",
    "plt.ylabel('Income Estimate')\n",
    "plt.hist(df_income_all.T['Low Income'])\n",
    "\n",
    "# Display visualization for Very Low Income Bracket across the years\n",
    "plt.subplot(1,3,2)\n",
    "plt.title('Very Low Income Estimates: 2007-2012')\n",
    "plt.xlabel('Year')\n",
    "plt.ylabel('Income Estimate')\n",
    "plt.hist(df_income_all.T['Very Low Income'])\n",
    "\n",
    "\n",
    "# Display visualization for Lowest Income Bracket across the years\n",
    "plt.subplot(1,3,3)\n",
    "plt.title('Lowest Income Estimates: 2007-2012')\n",
    "plt.xlabel('Year')\n",
    "plt.ylabel('Income Estimate')\n",
    "plt.hist(df_income_all.T['Lowest Income'])"
   ]
  },
  {
   "cell_type": "code",
   "execution_count": 30,
   "metadata": {
    "collapsed": false
   },
   "outputs": [
    {
     "data": {
      "text/html": [
       "<div>\n",
       "<table border=\"1\" class=\"dataframe\">\n",
       "  <thead>\n",
       "    <tr style=\"text-align: right;\">\n",
       "      <th></th>\n",
       "      <th>2007</th>\n",
       "      <th>2008</th>\n",
       "      <th>2009</th>\n",
       "      <th>2010</th>\n",
       "      <th>2011</th>\n",
       "      <th>2012</th>\n",
       "    </tr>\n",
       "  </thead>\n",
       "  <tbody>\n",
       "    <tr>\n",
       "      <th>Low Income</th>\n",
       "      <td>57556.25</td>\n",
       "      <td>64775.0</td>\n",
       "      <td>67756.25</td>\n",
       "      <td>64387.50</td>\n",
       "      <td>67150.00</td>\n",
       "      <td>65875.0</td>\n",
       "    </tr>\n",
       "    <tr>\n",
       "      <th>Very Low Income</th>\n",
       "      <td>35975.00</td>\n",
       "      <td>40487.5</td>\n",
       "      <td>42325.00</td>\n",
       "      <td>40250.00</td>\n",
       "      <td>42006.25</td>\n",
       "      <td>41175.0</td>\n",
       "    </tr>\n",
       "    <tr>\n",
       "      <th>Lowest Income</th>\n",
       "      <td>21581.25</td>\n",
       "      <td>24300.0</td>\n",
       "      <td>25418.75</td>\n",
       "      <td>24156.25</td>\n",
       "      <td>25181.25</td>\n",
       "      <td>24725.0</td>\n",
       "    </tr>\n",
       "  </tbody>\n",
       "</table>\n",
       "</div>"
      ],
      "text/plain": [
       "                     2007     2008      2009      2010      2011     2012\n",
       "Low Income       57556.25  64775.0  67756.25  64387.50  67150.00  65875.0\n",
       "Very Low Income  35975.00  40487.5  42325.00  40250.00  42006.25  41175.0\n",
       "Lowest Income    21581.25  24300.0  25418.75  24156.25  25181.25  24725.0"
      ]
     },
     "execution_count": 30,
     "metadata": {},
     "output_type": "execute_result"
    }
   ],
   "source": [
    "df_all"
   ]
  },
  {
   "cell_type": "code",
   "execution_count": 31,
   "metadata": {
    "collapsed": false
   },
   "outputs": [
    {
     "data": {
      "image/png": "[encoded data removed]",
      "text/plain": [
       "<matplotlib.figure.Figure at 0x112226908>"
      ]
     },
     "metadata": {},
     "output_type": "display_data"
    }
   ],
   "source": [
    "#import numpy as np\n",
    "\n",
    "N = 6\n",
    "ind = np.arange(N)\n",
    "width = 0.27\n",
    "\n",
    "\n",
    "fig = plt.figure()\n",
    "ax = fig.add_subplot(111)\n",
    "#ax = fig.add_subplot(111)\n",
    "\n",
    "\n",
    "lowIncome = [df_all.T['Low Income'].iloc[0], df_all.T['Low Income'].iloc[1],\n",
    "            df_all.T['Low Income'].iloc[2], df_all.T['Low Income'].iloc[3],\n",
    "            df_all.T['Low Income'].iloc[4], df_all.T['Low Income'].iloc[5]]\n",
    "lowIncomeRect = ax.bar(ind, lowIncome, width, color='r')\n",
    "\n",
    "veryLowIncome = [df_all.T['Very Low Income'].iloc[0], df_all.T['Very Low Income'].iloc[1],\n",
    "                df_all.T['Very Low Income'].iloc[2], df_all.T['Very Low Income'].iloc[3],\n",
    "                df_all.T['Very Low Income'].iloc[4], df_all.T['Very Low Income'].iloc[5]]\n",
    "veryLowIncomeRect = ax.bar(ind+width, veryLowIncome, width, color='g')\n",
    "\n",
    "lowestIncome = [df_all.T['Lowest Income'].iloc[0], df_all.T['Lowest Income'].iloc[1],\n",
    "            df_all.T['Lowest Income'].iloc[2], df_all.T['Lowest Income'].iloc[3],\n",
    "            df_all.T['Lowest Income'].iloc[4], df_all.T['Lowest Income'].iloc[5]]\n",
    "lowestIncomeRect = ax.bar(ind+width*2, lowestIncome, width, color='b')\n",
    "\n",
    "ax.set_ylabel('Average Income Estimate')\n",
    "ax.set_xlabel('Year')\n",
    "ax.set_xticks(ind+width)\n",
    "ax.set_xticklabels( ('2007', '2008', '2009', '2010', '2011', '2012') )\n",
    "ax.legend( (lowIncomeRect[0], veryLowIncomeRect[0], lowestIncomeRect[0]), \n",
    "          ('Low Income', 'Very Low Income', 'Lowest Income') )\n",
    "\n",
    "def autolabel(rects):\n",
    "    for rect in rects:\n",
    "        h = rect.get_height()\n",
    "        ax.text(rect.get_x()+rect.get_width()/2., 1.05*h, '%d'%int(h),\n",
    "                ha='center', va='bottom')\n",
    "\n",
    "autolabel(lowIncomeRect)\n",
    "autolabel(veryLowIncomeRect)\n",
    "autolabel(lowestIncomeRect)\n",
    "\n",
    "plt.figure(1, figsize=(50,40))\n",
    "plt.show()"
   ]
  },
  {
   "cell_type": "code",
   "execution_count": null,
   "metadata": {
    "collapsed": false
   },
   "outputs": [],
   "source": []
  }
 ],
 "metadata": {
  "kernelspec": {
   "display_name": "Python 3",
   "language": "python",
   "name": "python3"
  },
  "language_info": {
   "codemirror_mode": {
    "name": "ipython",
    "version": 3
   },
   "file_extension": ".py",
   "mimetype": "text/x-python",
   "name": "python",
   "nbconvert_exporter": "python",
   "pygments_lexer": "ipython3",
   "version": "3.6.0"
  }
 },
 "nbformat": 4,
 "nbformat_minor": 2
}
