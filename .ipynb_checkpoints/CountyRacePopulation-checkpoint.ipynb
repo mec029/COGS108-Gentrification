{
 "cells": [
  {
   "cell_type": "markdown",
   "metadata": {},
   "source": [
    "# County Race Population\n",
    "Cleaned by: Raymond Arevalo"
   ]
  },
  {
   "cell_type": "code",
   "execution_count": 11,
   "metadata": {
    "collapsed": true
   },
   "outputs": [],
   "source": [
    "import numpy as np\n",
    "import pandas as pd\n",
    "import scipy as sp\n",
    "import scipy.io as io\n",
    "import scipy.signal as sig\n",
    "import math as math\n",
    "import random \n",
    "from scipy import integrate\n",
    "import matplotlib.pyplot as plt\n",
    "from mpl_toolkits.mplot3d import Axes3D\n",
    "%matplotlib inline\n",
    "plt.style.use('seaborn-colorblind')\n",
    "plt.rcParams['image.cmap'] = 'RdBu'\n"
   ]
  },
  {
   "cell_type": "markdown",
   "metadata": {},
   "source": [
    "# 1. Clean Data"
   ]
  },
  {
   "cell_type": "code",
   "execution_count": 20,
   "metadata": {
    "collapsed": false
   },
   "outputs": [
    {
     "name": "stdout",
     "output_type": "stream",
     "text": [
      "Index(['Region Number', 'Subregional Area Number', 'Area ',\n",
      "       'Total 2012 Population', 'Population 0-4', 'Population 5-14 ',\n",
      "       'Population 15-24', 'Population 25-44', 'Population 45-64 ',\n",
      "       'Population 65+', 'Males', 'Females', 'White', 'Hispanic', 'Black',\n",
      "       'Asian/Pacific Islander', 'Other Race/ Ethnicity'],\n",
      "      dtype='object')\n"
     ]
    }
   ],
   "source": [
    "# grabbing data\n",
    "df = pd.read_csv('2012_San_Diego_Demographics_-_County_Population.csv')\n",
    "area_zip_dict = pd.read_csv('area_zip_dict.csv')\n",
    "\n",
    "print(df.keys())\n"
   ]
  },
  {
   "cell_type": "code",
   "execution_count": 21,
   "metadata": {
    "collapsed": false
   },
   "outputs": [
    {
     "name": "stdout",
     "output_type": "stream",
     "text": [
      "                   Area   Total 2012 Population    White  Hispanic   Black  \\\n",
      "0           San Dieguito                  95500    73992     13417     581   \n",
      "1               Carlsbad                 117427    85260     17794    1566   \n",
      "2              Oceanside                 161223    73383     62054    6459   \n",
      "3              Pendleton                  38172    23295      8170    2910   \n",
      "4                  Vista                 102080    43217     48887    2538   \n",
      "5   North Coastal Region                 514402   299147    150322   14054   \n",
      "6              Peninsula                  63252    47479      8649    2163   \n",
      "7            Kearny Mesa                 152441    83559     34846    6484   \n",
      "8                Coastal                  75893    60540      8482     784   \n",
      "9             University                  68088    34483      7088    1225   \n",
      "10     Del Mar-Mira Mesa                 160089    75851     16518    3498   \n",
      "11               Miramar                   5072     3033      1042     475   \n",
      "12        Elliott-Navajo                  90258    60021     13537    3946   \n",
      "13  North Central Region                 615093   364966     90162   18575   \n",
      "14            Central SD                 166820    81444     60001   10742   \n",
      "15          Southeast SD                 157033    14536     81088   23925   \n",
      "16              Mid-City                 164903    45619     71270   18380   \n",
      "17        Central Region                 488756   141599    212359   53047   \n",
      "18              Coronado                  23187    16865      3328    1207   \n",
      "19         National City                  58752     6400     38066    2409   \n",
      "20            Sweetwater                 139210    31514     66351    5899   \n",
      "21           Chula Vista                 116603    20420     83820    3695   \n",
      "22             South Bay                 135592    19675     94425    4965   \n",
      "23          South Region                 473344    94874    285990   18175   \n",
      "24                 Jamul                  18079     9693      5782     835   \n",
      "25         Spring Valley                  82215    38061     27450    7354   \n",
      "26           Lemon Grove                  30110     9231     13137    4156   \n",
      "27               La Mesa                  60320    37118     12755    4034   \n",
      "28              El Cajon                 126047    73306     34897    6701   \n",
      "29                Santee                  51950    38123      8646     828   \n",
      "30              Lakeside                  56951    41013     10989     963   \n",
      "31        Harbison Crest                  14869    11562      2366     136   \n",
      "32                Alpine                  15226    11668      2477     174   \n",
      "33    Laguna-Pine Valley                   5655     4010       987      83   \n",
      "34       Mountain Empire                   8563     4394      3226     206   \n",
      "35           East Region                 469985   278179    122712   25470   \n",
      "36              North SD                 110927    64134     11518    2488   \n",
      "37                 Poway                  87385    57809     10941    1441   \n",
      "38                Ramona                  35635    24928      8785     283   \n",
      "39             Escondido                 165438    69771     77496    3233   \n",
      "40            San Marcos                  91465    44892     34379    1668   \n",
      "41         Valley Center                  23553    14651      6216     186   \n",
      "42                 Pauma                   7798     2986      3020     111   \n",
      "43             Fallbrook                  48167    26942     18351     546   \n",
      "44        Palomar-Julian                   6529     4589      1048      70   \n",
      "45  Anza-Borrego Springs                   4952     2853      1927      36   \n",
      "46   North Inland Region                 581849   313555    173681   10062   \n",
      "47          County Total                3143429  1492320   1035226  139383   \n",
      "\n",
      "    Asian/Pacific Islander  \n",
      "0                     4506  \n",
      "1                     8630  \n",
      "2                    12576  \n",
      "3                     1637  \n",
      "4                     4305  \n",
      "5                    31654  \n",
      "6                     2363  \n",
      "7                    20491  \n",
      "8                     3504  \n",
      "9                    22408  \n",
      "10                   56910  \n",
      "11                     249  \n",
      "12                    8181  \n",
      "13                  114106  \n",
      "14                    8776  \n",
      "15                   32380  \n",
      "16                   24201  \n",
      "17                   65357  \n",
      "18                     906  \n",
      "19                   10570  \n",
      "20                   30077  \n",
      "21                    6087  \n",
      "22                   13036  \n",
      "23                   60676  \n",
      "24                    1246  \n",
      "25                    5488  \n",
      "26                    2304  \n",
      "27                    3670  \n",
      "28                    4630  \n",
      "29                    2184  \n",
      "30                    1252  \n",
      "31                     271  \n",
      "32                     370  \n",
      "33                     109  \n",
      "34                     115  \n",
      "35                   21639  \n",
      "36                   27500  \n",
      "37                   13748  \n",
      "38                     606  \n",
      "39                   10557  \n",
      "40                    7597  \n",
      "41                     881  \n",
      "42                     309  \n",
      "43                    1163  \n",
      "44                     104  \n",
      "45                      38  \n",
      "46                   62503  \n",
      "47                  355935  \n"
     ]
    }
   ],
   "source": [
    "# grabbing necessary information\n",
    "df = df[['Area ', 'Total 2012 Population', 'White', 'Hispanic', 'Black', 'Asian/Pacific Islander']]\n",
    "print(df)"
   ]
  },
  {
   "cell_type": "code",
   "execution_count": 22,
   "metadata": {
    "collapsed": false
   },
   "outputs": [
    {
     "name": "stdout",
     "output_type": "stream",
     "text": [
      "          Area   Total 2012 Population  White  Hispanic  Black  \\\n",
      "0  San_Dieguito                  95500  73992     13417    581   \n",
      "1      Carlsbad                 117427  85260     17794   1566   \n",
      "2     Oceanside                 161223  73383     62054   6459   \n",
      "3     Pendleton                  38172  23295      8170   2910   \n",
      "4         Vista                 102080  43217     48887   2538   \n",
      "\n",
      "   Asian/Pacific Islander  \n",
      "0                    4506  \n",
      "1                    8630  \n",
      "2                   12576  \n",
      "3                    1637  \n",
      "4                    4305  \n"
     ]
    }
   ],
   "source": [
    "# Replacing naming of Areas to exclude space \" \" character\n",
    "df['Area '] = [str(x.replace(\" \",\"_\")) for x in df['Area '][:]]\n",
    "print(df.head(5))\n"
   ]
  },
  {
   "cell_type": "code",
   "execution_count": 23,
   "metadata": {
    "collapsed": false
   },
   "outputs": [
    {
     "name": "stdout",
     "output_type": "stream",
     "text": [
      "            Area   Total 2012 Population  White  Hispanic  Black  \\\n",
      "1        Carlsbad                 117427  85260     17794   1566   \n",
      "2       Oceanside                 161223  73383     62054   6459   \n",
      "4           Vista                 102080  43217     48887   2538   \n",
      "18       Coronado                  23187  16865      3328   1207   \n",
      "19  National_City                  58752   6400     38066   2409   \n",
      "21    Chula_Vista                 116603  20420     83820   3695   \n",
      "24          Jamul                  18079   9693      5782    835   \n",
      "25  Spring_Valley                  82215  38061     27450   7354   \n",
      "26    Lemon_Grove                  30110   9231     13137   4156   \n",
      "27        La_Mesa                  60320  37118     12755   4034   \n",
      "28       El_Cajon                 126047  73306     34897   6701   \n",
      "29         Santee                  51950  38123      8646    828   \n",
      "30       Lakeside                  56951  41013     10989    963   \n",
      "32         Alpine                  15226  11668      2477    174   \n",
      "37          Poway                  87385  57809     10941   1441   \n",
      "38         Ramona                  35635  24928      8785    283   \n",
      "39      Escondido                 165438  69771     77496   3233   \n",
      "40     San_Marcos                  91465  44892     34379   1668   \n",
      "41  Valley_Center                  23553  14651      6216    186   \n",
      "43      Fallbrook                  48167  26942     18351    546   \n",
      "\n",
      "    Asian/Pacific Islander  \n",
      "1                     8630  \n",
      "2                    12576  \n",
      "4                     4305  \n",
      "18                     906  \n",
      "19                   10570  \n",
      "21                    6087  \n",
      "24                    1246  \n",
      "25                    5488  \n",
      "26                    2304  \n",
      "27                    3670  \n",
      "28                    4630  \n",
      "29                    2184  \n",
      "30                    1252  \n",
      "32                     370  \n",
      "37                   13748  \n",
      "38                     606  \n",
      "39                   10557  \n",
      "40                    7597  \n",
      "41                     881  \n",
      "43                    1163  \n"
     ]
    }
   ],
   "source": [
    "# Gets rid of the areas in df that aren't in area_zip_dict\n",
    "keep = area_zip_dict['Area'].values\n",
    "dfClean = df[df['Area '].isin(keep)]\n",
    "print(dfClean)"
   ]
  },
  {
   "cell_type": "code",
   "execution_count": 24,
   "metadata": {
    "collapsed": false
   },
   "outputs": [
    {
     "name": "stdout",
     "output_type": "stream",
     "text": [
      "['Carlsbad', 'Oceanside', 'Vista', 'Coronado', 'National_City', 'Chula_Vista', 'Jamul', 'Spring_Valley', 'Lemon_Grove', 'La_Mesa', 'El_Cajon', 'Santee', 'Lakeside', 'Alpine', 'Poway', 'Ramona', 'Escondido', 'San_Marcos', 'Valley_Center', 'Fallbrook']\n"
     ]
    }
   ],
   "source": [
    "dfList = dfClean['Area '].tolist()\n",
    "print(dfList)"
   ]
  },
  {
   "cell_type": "code",
   "execution_count": 30,
   "metadata": {
    "collapsed": false
   },
   "outputs": [
    {
     "data": {
      "image/png": "[encoded data removed]",
      "text/plain": [
       "<matplotlib.figure.Figure at 0x117967a58>"
      ]
     },
     "metadata": {},
     "output_type": "display_data"
    }
   ],
   "source": [
    "N = 20\n",
    "ind = np.arange(N)\n",
    "width = 0.27\n",
    "\n",
    "ax = dfClean[['White','Hispanic', 'Black', 'Asian/Pacific Islander']].plot(kind='bar', title =\"V comp\", figsize=(25, 8), legend=True, fontsize=12)\n",
    "ax.set_xlabel(\"Locations\", fontsize=12)\n",
    "ax.set_ylabel(\"Population\", fontsize=12)\n",
    "ax.set_xticks(ind+width)\n",
    "ax.set_xticklabels( ('Carlsbad', 'Oceanside', 'Vista', 'Coronado', 'National_City', 'Chula_Vista', 'Jamul', 'Spring_Valley', 'Lemon_Grove', 'La_Mesa', 'El_Cajon', 'Santee', 'Lakeside', 'Alpine', 'Poway', 'Ramona', 'Escondido', 'San_Marcos', 'Valley_Center', 'Fallbrook') )\n",
    "plt.show()"
   ]
  },
  {
   "cell_type": "code",
   "execution_count": null,
   "metadata": {
    "collapsed": true
   },
   "outputs": [],
   "source": []
  }
 ],
 "metadata": {
  "kernelspec": {
   "display_name": "Python 3",
   "language": "python",
   "name": "python3"
  },
  "language_info": {
   "codemirror_mode": {
    "name": "ipython",
    "version": 3
   },
   "file_extension": ".py",
   "mimetype": "text/x-python",
   "name": "python",
   "nbconvert_exporter": "python",
   "pygments_lexer": "ipython3",
   "version": "3.6.0"
  }
 },
 "nbformat": 4,
 "nbformat_minor": 2
}
