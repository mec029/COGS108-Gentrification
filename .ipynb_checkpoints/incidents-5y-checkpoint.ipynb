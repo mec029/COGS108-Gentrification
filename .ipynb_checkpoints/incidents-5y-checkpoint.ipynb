{
 "cells": [
  {
   "cell_type": "markdown",
   "metadata": {},
   "source": [
    "# 5 Years of Crime Incidents\n",
    "Cleaned by: Raymond Arevalo"
   ]
  },
  {
   "cell_type": "code",
   "execution_count": 1,
   "metadata": {
    "collapsed": true
   },
   "outputs": [],
   "source": [
    "import numpy as np\n",
    "import pandas as pd\n",
    "import scipy as sp\n",
    "import scipy.io as io\n",
    "import scipy.signal as sig\n",
    "import math as math\n",
    "import random \n",
    "from scipy import integrate\n",
    "import matplotlib.pyplot as plt\n",
    "from mpl_toolkits.mplot3d import Axes3D\n",
    "%matplotlib inline\n",
    "plt.style.use('seaborn-colorblind')\n",
    "plt.rcParams['image.cmap'] = 'RdBu'"
   ]
  },
  {
   "cell_type": "code",
   "execution_count": 2,
   "metadata": {
    "collapsed": true
   },
   "outputs": [],
   "source": [
    "import matplotlib.pyplot as plt\n",
    "import h5py"
   ]
  },
  {
   "cell_type": "markdown",
   "metadata": {},
   "source": [
    "# Loading files"
   ]
  },
  {
   "cell_type": "code",
   "execution_count": 3,
   "metadata": {
    "collapsed": true
   },
   "outputs": [],
   "source": [
    "dfIncidents = pd.read_csv('../incidents-5y.csv')\n",
    "dfcode = pd.read_csv('nbrhcodes.csv')\n",
    "dfzip = pd.read_csv('area_zip_dict.csv')"
   ]
  },
  {
   "cell_type": "markdown",
   "metadata": {},
   "source": [
    "# Examining Data"
   ]
  },
  {
   "cell_type": "code",
   "execution_count": 4,
   "metadata": {
    "collapsed": false
   },
   "outputs": [
    {
     "name": "stdout",
     "output_type": "stream",
     "text": [
      "   id        date  year  month   day  week  dow      time  hour  is_night  \\\n",
      "0 NaN  2008-01-01  2008      1  2922     0    2  00:00:00     0         1   \n",
      "1 NaN  2008-01-01  2008      1  2922     0    2  00:00:00     0         1   \n",
      "2 NaN  2008-01-01  2008      1  2922     0    2  00:00:00     0         1   \n",
      "3 NaN  2008-01-01  2008      1  2922     0    2  00:00:00     0         1   \n",
      "4 NaN  2008-01-01  2008      1  2922     0    2  00:00:00     0         1   \n",
      "\n",
      "     ...     comm_pop council council_pop  asr_zone lampdist        lat  \\\n",
      "0    ...            0    NONE           0       NaN      NaN  33.137756   \n",
      "1    ...            0    NONE           0       NaN      NaN  32.630291   \n",
      "2    ...            0    NONE           0       NaN      NaN  33.193405   \n",
      "3    ...            0    NONE           0       NaN      NaN  32.655955   \n",
      "4    ...            0    NONE           0       NaN      NaN  32.626110   \n",
      "\n",
      "          lon         desc       gctype  gcquality  \n",
      "0 -117.266499  PETTY THEFT  cns/segment         65  \n",
      "1 -117.004355        FRAUD  cns/segment         65  \n",
      "2 -117.316456        FRAUD  cns/segment         22  \n",
      "3 -116.958372        FRAUD  cns/segment         65  \n",
      "4 -117.079400        FRAUD  cns/segment         65  \n",
      "\n",
      "[5 rows x 26 columns]\n"
     ]
    }
   ],
   "source": [
    "# Examine Incidents data\n",
    "print(dfIncidents.head(5))"
   ]
  },
  {
   "cell_type": "code",
   "execution_count": 5,
   "metadata": {
    "collapsed": false
   },
   "outputs": [
    {
     "name": "stdout",
     "output_type": "stream",
     "text": [
      "           type      city    code  scode                   name         lon  \\\n",
      "0  neighborhood  CaSanSAN  SanADM    103            Adams North -117.119183   \n",
      "1  neighborhood  CaSanSAN  SanALL     51         Allied Gardens -117.081694   \n",
      "2  neighborhood  CaSanSAN  SanALT    119             Alta Vista -117.065998   \n",
      "3  neighborhood  CaSanSAN  SanAZL     12  Azalea/Hollywood Park -117.104734   \n",
      "4  neighborhood  CaSanSAN  SanBAL     89            Balboa Park -117.145920   \n",
      "\n",
      "         lat          area  \n",
      "0  32.768792  2.115885e+07  \n",
      "1  32.797943  6.459816e+07  \n",
      "2  32.693359  7.690619e+06  \n",
      "3  32.732939  9.612716e+06  \n",
      "4  32.731088  5.686434e+07  \n"
     ]
    }
   ],
   "source": [
    "# Examine Incidents data\n",
    "print(dfcode.head(5))"
   ]
  },
  {
   "cell_type": "code",
   "execution_count": 6,
   "metadata": {
    "collapsed": false
   },
   "outputs": [
    {
     "name": "stdout",
     "output_type": "stream",
     "text": [
      "            Area       Zipcode\n",
      "0          Jamul        91935 \n",
      "1    Wooded_Area        92106 \n",
      "2       Old_Town        92110 \n",
      "3  Spring_Valley  91977 91978 \n",
      "4   Pauma_Valley        92061 \n"
     ]
    }
   ],
   "source": [
    "# Examine Incidents data\n",
    "print(dfzip.head(5))"
   ]
  },
  {
   "cell_type": "markdown",
   "metadata": {},
   "source": [
    "# Cleaning Data"
   ]
  },
  {
   "cell_type": "code",
   "execution_count": 7,
   "metadata": {
    "collapsed": false
   },
   "outputs": [],
   "source": [
    "# Grabs necessary crime data (year, type, neighborhood)\n",
    "dfIncidents = dfIncidents[['year', 'type', 'nbrhood']]"
   ]
  },
  {
   "cell_type": "code",
   "execution_count": 8,
   "metadata": {
    "collapsed": true
   },
   "outputs": [],
   "source": [
    "# Grabs neighborhood codes\n",
    "dfcode = dfcode[['code','name']]"
   ]
  },
  {
   "cell_type": "code",
   "execution_count": 9,
   "metadata": {
    "collapsed": true
   },
   "outputs": [],
   "source": [
    "# Replaces city codes in dfIncidents with city names\n",
    "for i in range(len(dfcode)):\n",
    "    name = dfcode['name'][i]\n",
    "    key_code = dfcode['code'][i]\n",
    "    \n",
    "    dfIncidents.replace(to_replace = key_code, value = name, inplace=True)"
   ]
  },
  {
   "cell_type": "code",
   "execution_count": 10,
   "metadata": {
    "collapsed": false
   },
   "outputs": [],
   "source": [
    "# Replace spaces with '_' in neighborhood names\n",
    "dfIncidents['nbrhood'] = [str(x.replace(\" \",\"_\")) for x in dfIncidents['nbrhood'][:]]"
   ]
  },
  {
   "cell_type": "code",
   "execution_count": 11,
   "metadata": {
    "collapsed": false
   },
   "outputs": [],
   "source": [
    "# Remove rows where neighborhood is not available\n",
    "dfIncidents = dfIncidents[(dfIncidents.nbrhood != 'NONE')]"
   ]
  },
  {
   "cell_type": "code",
   "execution_count": 12,
   "metadata": {
    "collapsed": false
   },
   "outputs": [],
   "source": [
    "# Remove neighborhoods in for which we don't have the zipcode data for\n",
    "area = dfzip['Area'].values\n",
    "dfIncidents = dfIncidents[dfIncidents['nbrhood'].isin(area)]"
   ]
  },
  {
   "cell_type": "code",
   "execution_count": 13,
   "metadata": {
    "collapsed": true
   },
   "outputs": [],
   "source": [
    "# Reset index of dfIncidents\n",
    "dfIncidents = dfIncidents.reset_index()\n",
    "del dfIncidents['index']"
   ]
  },
  {
   "cell_type": "code",
   "execution_count": 14,
   "metadata": {
    "collapsed": false
   },
   "outputs": [
    {
     "data": {
      "text/html": [
       "<div>\n",
       "<table border=\"1\" class=\"dataframe\">\n",
       "  <thead>\n",
       "    <tr style=\"text-align: right;\">\n",
       "      <th></th>\n",
       "      <th>year</th>\n",
       "      <th>type</th>\n",
       "      <th>nbrhood</th>\n",
       "    </tr>\n",
       "  </thead>\n",
       "  <tbody>\n",
       "    <tr>\n",
       "      <th>0</th>\n",
       "      <td>2008</td>\n",
       "      <td>BURGLARY</td>\n",
       "      <td>Carmel_Mountain</td>\n",
       "    </tr>\n",
       "    <tr>\n",
       "      <th>1</th>\n",
       "      <td>2008</td>\n",
       "      <td>FRAUD</td>\n",
       "      <td>San_Ysidro</td>\n",
       "    </tr>\n",
       "    <tr>\n",
       "      <th>2</th>\n",
       "      <td>2008</td>\n",
       "      <td>FRAUD</td>\n",
       "      <td>Encanto</td>\n",
       "    </tr>\n",
       "    <tr>\n",
       "      <th>3</th>\n",
       "      <td>2008</td>\n",
       "      <td>VANDALISM</td>\n",
       "      <td>Clairemont_Mesa_East</td>\n",
       "    </tr>\n",
       "    <tr>\n",
       "      <th>4</th>\n",
       "      <td>2008</td>\n",
       "      <td>VEHICLE BREAK-IN/THEFT</td>\n",
       "      <td>University_City</td>\n",
       "    </tr>\n",
       "    <tr>\n",
       "      <th>5</th>\n",
       "      <td>2008</td>\n",
       "      <td>ASSAULT</td>\n",
       "      <td>Mira_Mesa</td>\n",
       "    </tr>\n",
       "    <tr>\n",
       "      <th>6</th>\n",
       "      <td>2008</td>\n",
       "      <td>ROBBERY</td>\n",
       "      <td>Gaslamp</td>\n",
       "    </tr>\n",
       "    <tr>\n",
       "      <th>7</th>\n",
       "      <td>2008</td>\n",
       "      <td>BURGLARY</td>\n",
       "      <td>North_Clairemont</td>\n",
       "    </tr>\n",
       "    <tr>\n",
       "      <th>8</th>\n",
       "      <td>2008</td>\n",
       "      <td>FRAUD</td>\n",
       "      <td>Mira_Mesa</td>\n",
       "    </tr>\n",
       "    <tr>\n",
       "      <th>9</th>\n",
       "      <td>2008</td>\n",
       "      <td>FRAUD</td>\n",
       "      <td>Mira_Mesa</td>\n",
       "    </tr>\n",
       "  </tbody>\n",
       "</table>\n",
       "</div>"
      ],
      "text/plain": [
       "   year                    type               nbrhood\n",
       "0  2008                BURGLARY       Carmel_Mountain\n",
       "1  2008                   FRAUD            San_Ysidro\n",
       "2  2008                   FRAUD               Encanto\n",
       "3  2008               VANDALISM  Clairemont_Mesa_East\n",
       "4  2008  VEHICLE BREAK-IN/THEFT       University_City\n",
       "5  2008                 ASSAULT             Mira_Mesa\n",
       "6  2008                 ROBBERY               Gaslamp\n",
       "7  2008                BURGLARY      North_Clairemont\n",
       "8  2008                   FRAUD             Mira_Mesa\n",
       "9  2008                   FRAUD             Mira_Mesa"
      ]
     },
     "execution_count": 14,
     "metadata": {},
     "output_type": "execute_result"
    }
   ],
   "source": [
    "# Examine Data again\n",
    "dfIncidents.head(10)"
   ]
  },
  {
   "cell_type": "markdown",
   "metadata": {},
   "source": [
    "# Create new dataframe"
   ]
  },
  {
   "cell_type": "code",
   "execution_count": 15,
   "metadata": {
    "collapsed": false
   },
   "outputs": [],
   "source": [
    "# Sort values and group data by year and neighorhood to get total crimecount\n",
    "dfIncidents = dfIncidents.sort_values(['year', 'nbrhood'], ascending=[True, True])\n",
    "dfgroup = dfIncidents.groupby([\"year\", \"nbrhood\"]).size()\n",
    "\n",
    "\n",
    "# Take series and convert to dataframe. Reset index and rename columns\n",
    "dfsort = dfgroup.to_frame()\n",
    "dfsort = dfsort.reset_index()\n",
    "dfsort.columns = ['year', 'nbrhood', 'crimecount']"
   ]
  },
  {
   "cell_type": "code",
   "execution_count": 16,
   "metadata": {
    "collapsed": false
   },
   "outputs": [
    {
     "name": "stdout",
     "output_type": "stream",
     "text": [
      "     year               nbrhood  crimecount\n",
      "0    2008          Barrio_Logan         932\n",
      "1    2008  Black_Mountain_Ranch          73\n",
      "2    2008       Carmel_Mountain         464\n",
      "3    2008         Carmel_Valley        1133\n",
      "4    2008  Clairemont_Mesa_East        1392\n",
      "5    2008             Del_Cerro         321\n",
      "6    2008            El_Cerrito         531\n",
      "7    2008               Encanto         602\n",
      "8    2008               Gaslamp        1051\n",
      "9    2008           Golden_Hill         755\n",
      "10   2008             Hillcrest        1588\n",
      "11   2008              La_Jolla        2151\n",
      "12   2008             Mira_Mesa        2289\n",
      "13   2008         Mission_Beach        1226\n",
      "14   2008   Mission_Valley_East        2168\n",
      "15   2008        Normal_Heights         989\n",
      "16   2008      North_Clairemont         742\n",
      "17   2008            North_Park        3308\n",
      "18   2008              Oak_Park         782\n",
      "19   2008           Ocean_Beach        2296\n",
      "20   2008              Old_Town         429\n",
      "21   2008             Otay_Mesa         541\n",
      "22   2008        Paradise_Hills         457\n",
      "23   2008    Rancho_Penasquitos        1083\n",
      "24   2008            San_Carlos         507\n",
      "25   2008            San_Ysidro        2218\n",
      "26   2008            Serra_Mesa        1154\n",
      "27   2008       Sorrento_Valley         463\n",
      "28   2008           Tierrasanta         759\n",
      "29   2008       University_City        1728\n",
      "..    ...                   ...         ...\n",
      "125  2012  Black_Mountain_Ranch         103\n",
      "126  2012       Carmel_Mountain         260\n",
      "127  2012         Carmel_Valley         856\n",
      "128  2012  Clairemont_Mesa_East        1132\n",
      "129  2012             Del_Cerro         271\n",
      "130  2012            El_Cerrito         454\n",
      "131  2012               Encanto         491\n",
      "132  2012               Gaslamp         985\n",
      "133  2012           Golden_Hill         469\n",
      "134  2012             Hillcrest        1685\n",
      "135  2012              La_Jolla        1621\n",
      "136  2012             Mira_Mesa        1646\n",
      "137  2012         Mission_Beach         707\n",
      "138  2012   Mission_Valley_East        1360\n",
      "139  2012        Normal_Heights         623\n",
      "140  2012      North_Clairemont         542\n",
      "141  2012            North_Park        2433\n",
      "142  2012              Oak_Park         519\n",
      "143  2012           Ocean_Beach        1907\n",
      "144  2012              Old_Town         260\n",
      "145  2012             Otay_Mesa         273\n",
      "146  2012        Paradise_Hills         360\n",
      "147  2012    Rancho_Penasquitos         766\n",
      "148  2012            San_Carlos         263\n",
      "149  2012            San_Ysidro        1176\n",
      "150  2012            Serra_Mesa         894\n",
      "151  2012       Sorrento_Valley         366\n",
      "152  2012           Tierrasanta         588\n",
      "153  2012       University_City        1400\n",
      "154  2012           Wooded_Area          81\n",
      "\n",
      "[155 rows x 3 columns]\n"
     ]
    }
   ],
   "source": [
    "print(dfsort)"
   ]
  },
  {
   "cell_type": "markdown",
   "metadata": {},
   "source": [
    "# Cleaning new data frame"
   ]
  },
  {
   "cell_type": "code",
   "execution_count": 17,
   "metadata": {
    "collapsed": false
   },
   "outputs": [],
   "source": [
    "# Appends a new column that contains zip codes of each neighborhood\n",
    "zips = []\n",
    "for i in range(len(dfsort['nbrhood'])):\n",
    "    name = dfsort['nbrhood'][i]\n",
    "    for j in range(len(dfzip['Zipcode'])):\n",
    "        area = dfzip['Area'][j]\n",
    "        zipcode = dfzip['Zipcode'][j]\n",
    "        if name == area:\n",
    "            zips.append(zipcode)"
   ]
  },
  {
   "cell_type": "code",
   "execution_count": 18,
   "metadata": {
    "collapsed": false
   },
   "outputs": [],
   "source": [
    "dfsort['zipcode'] = pd.Series(zips, index = dfsort.index)"
   ]
  },
  {
   "cell_type": "code",
   "execution_count": 19,
   "metadata": {
    "collapsed": true
   },
   "outputs": [],
   "source": [
    "# Detach neighborhood column\n",
    "del dfsort['nbrhood']"
   ]
  },
  {
   "cell_type": "code",
   "execution_count": 20,
   "metadata": {
    "collapsed": false
   },
   "outputs": [
    {
     "name": "stdout",
     "output_type": "stream",
     "text": [
      "     year  crimecount zipcode\n",
      "11   2008        2151  92037 \n",
      "42   2009        1874  92037 \n",
      "73   2010        1637  92037 \n",
      "104  2011        1648  92037 \n",
      "135  2012        1621  92037 \n",
      "8    2008        1051  92101 \n",
      "39   2009        1144  92101 \n",
      "70   2010        1250  92101 \n",
      "101  2011        1097  92101 \n",
      "132  2012         985  92101 \n",
      "9    2008         755  92102 \n",
      "40   2009         680  92102 \n",
      "71   2010         606  92102 \n",
      "102  2011         500  92102 \n",
      "133  2012         469  92102 \n",
      "10   2008        1588  92103 \n",
      "41   2009        1543  92103 \n",
      "72   2010        1477  92103 \n",
      "103  2011        1559  92103 \n",
      "134  2012        1685  92103 \n",
      "17   2008        3308  92104 \n",
      "48   2009        3197  92104 \n",
      "79   2010        2912  92104 \n",
      "110  2011        2592  92104 \n",
      "141  2012        2433  92104 \n",
      "18   2008         782  92105 \n",
      "49   2009         679  92105 \n",
      "80   2010         572  92105 \n",
      "111  2011         486  92105 \n",
      "142  2012         519  92105 \n",
      "..    ...         ...     ...\n",
      "2    2008         464  92128 \n",
      "33   2009         379  92128 \n",
      "64   2010         354  92128 \n",
      "95   2011         288  92128 \n",
      "126  2012         260  92128 \n",
      "23   2008        1083  92129 \n",
      "54   2009         818  92129 \n",
      "85   2010         784  92129 \n",
      "116  2011         796  92129 \n",
      "147  2012         766  92129 \n",
      "3    2008        1133  92130 \n",
      "34   2009        1005  92130 \n",
      "65   2010         911  92130 \n",
      "96   2011         814  92130 \n",
      "127  2012         856  92130 \n",
      "22   2008         457  92139 \n",
      "53   2009         429  92139 \n",
      "84   2010         472  92139 \n",
      "115  2011         434  92139 \n",
      "146  2012         360  92139 \n",
      "21   2008         541  92154 \n",
      "52   2009         300  92154 \n",
      "83   2010         240  92154 \n",
      "114  2011         278  92154 \n",
      "145  2012         273  92154 \n",
      "25   2008        2218  92173 \n",
      "56   2009        1525  92173 \n",
      "87   2010        1413  92173 \n",
      "118  2011        1166  92173 \n",
      "149  2012        1176  92173 \n",
      "\n",
      "[155 rows x 3 columns]\n"
     ]
    }
   ],
   "source": [
    "# sort by zipcode\n",
    "dfsort = dfsort.sort_values(['zipcode', 'year'],ascending = [True, True])\n",
    "print(dfsort)"
   ]
  },
  {
   "cell_type": "code",
   "execution_count": 21,
   "metadata": {
    "collapsed": true
   },
   "outputs": [],
   "source": [
    "# Resets index\n",
    "dfsort = dfsort.reset_index()\n",
    "del dfsort['index']"
   ]
  },
  {
   "cell_type": "code",
   "execution_count": 22,
   "metadata": {
    "collapsed": false
   },
   "outputs": [
    {
     "data": {
      "text/html": [
       "<div>\n",
       "<table border=\"1\" class=\"dataframe\">\n",
       "  <thead>\n",
       "    <tr style=\"text-align: right;\">\n",
       "      <th></th>\n",
       "      <th>year</th>\n",
       "      <th>crimecount</th>\n",
       "      <th>zipcode</th>\n",
       "    </tr>\n",
       "  </thead>\n",
       "  <tbody>\n",
       "    <tr>\n",
       "      <th>0</th>\n",
       "      <td>2008</td>\n",
       "      <td>2151</td>\n",
       "      <td>92037</td>\n",
       "    </tr>\n",
       "    <tr>\n",
       "      <th>1</th>\n",
       "      <td>2009</td>\n",
       "      <td>1874</td>\n",
       "      <td>92037</td>\n",
       "    </tr>\n",
       "    <tr>\n",
       "      <th>2</th>\n",
       "      <td>2010</td>\n",
       "      <td>1637</td>\n",
       "      <td>92037</td>\n",
       "    </tr>\n",
       "    <tr>\n",
       "      <th>3</th>\n",
       "      <td>2011</td>\n",
       "      <td>1648</td>\n",
       "      <td>92037</td>\n",
       "    </tr>\n",
       "    <tr>\n",
       "      <th>4</th>\n",
       "      <td>2012</td>\n",
       "      <td>1621</td>\n",
       "      <td>92037</td>\n",
       "    </tr>\n",
       "    <tr>\n",
       "      <th>5</th>\n",
       "      <td>2008</td>\n",
       "      <td>1051</td>\n",
       "      <td>92101</td>\n",
       "    </tr>\n",
       "    <tr>\n",
       "      <th>6</th>\n",
       "      <td>2009</td>\n",
       "      <td>1144</td>\n",
       "      <td>92101</td>\n",
       "    </tr>\n",
       "    <tr>\n",
       "      <th>7</th>\n",
       "      <td>2010</td>\n",
       "      <td>1250</td>\n",
       "      <td>92101</td>\n",
       "    </tr>\n",
       "    <tr>\n",
       "      <th>8</th>\n",
       "      <td>2011</td>\n",
       "      <td>1097</td>\n",
       "      <td>92101</td>\n",
       "    </tr>\n",
       "    <tr>\n",
       "      <th>9</th>\n",
       "      <td>2012</td>\n",
       "      <td>985</td>\n",
       "      <td>92101</td>\n",
       "    </tr>\n",
       "    <tr>\n",
       "      <th>10</th>\n",
       "      <td>2008</td>\n",
       "      <td>755</td>\n",
       "      <td>92102</td>\n",
       "    </tr>\n",
       "    <tr>\n",
       "      <th>11</th>\n",
       "      <td>2009</td>\n",
       "      <td>680</td>\n",
       "      <td>92102</td>\n",
       "    </tr>\n",
       "    <tr>\n",
       "      <th>12</th>\n",
       "      <td>2010</td>\n",
       "      <td>606</td>\n",
       "      <td>92102</td>\n",
       "    </tr>\n",
       "    <tr>\n",
       "      <th>13</th>\n",
       "      <td>2011</td>\n",
       "      <td>500</td>\n",
       "      <td>92102</td>\n",
       "    </tr>\n",
       "    <tr>\n",
       "      <th>14</th>\n",
       "      <td>2012</td>\n",
       "      <td>469</td>\n",
       "      <td>92102</td>\n",
       "    </tr>\n",
       "    <tr>\n",
       "      <th>15</th>\n",
       "      <td>2008</td>\n",
       "      <td>1588</td>\n",
       "      <td>92103</td>\n",
       "    </tr>\n",
       "    <tr>\n",
       "      <th>16</th>\n",
       "      <td>2009</td>\n",
       "      <td>1543</td>\n",
       "      <td>92103</td>\n",
       "    </tr>\n",
       "    <tr>\n",
       "      <th>17</th>\n",
       "      <td>2010</td>\n",
       "      <td>1477</td>\n",
       "      <td>92103</td>\n",
       "    </tr>\n",
       "    <tr>\n",
       "      <th>18</th>\n",
       "      <td>2011</td>\n",
       "      <td>1559</td>\n",
       "      <td>92103</td>\n",
       "    </tr>\n",
       "    <tr>\n",
       "      <th>19</th>\n",
       "      <td>2012</td>\n",
       "      <td>1685</td>\n",
       "      <td>92103</td>\n",
       "    </tr>\n",
       "    <tr>\n",
       "      <th>20</th>\n",
       "      <td>2008</td>\n",
       "      <td>3308</td>\n",
       "      <td>92104</td>\n",
       "    </tr>\n",
       "    <tr>\n",
       "      <th>21</th>\n",
       "      <td>2009</td>\n",
       "      <td>3197</td>\n",
       "      <td>92104</td>\n",
       "    </tr>\n",
       "    <tr>\n",
       "      <th>22</th>\n",
       "      <td>2010</td>\n",
       "      <td>2912</td>\n",
       "      <td>92104</td>\n",
       "    </tr>\n",
       "    <tr>\n",
       "      <th>23</th>\n",
       "      <td>2011</td>\n",
       "      <td>2592</td>\n",
       "      <td>92104</td>\n",
       "    </tr>\n",
       "    <tr>\n",
       "      <th>24</th>\n",
       "      <td>2012</td>\n",
       "      <td>2433</td>\n",
       "      <td>92104</td>\n",
       "    </tr>\n",
       "    <tr>\n",
       "      <th>25</th>\n",
       "      <td>2008</td>\n",
       "      <td>782</td>\n",
       "      <td>92105</td>\n",
       "    </tr>\n",
       "    <tr>\n",
       "      <th>26</th>\n",
       "      <td>2009</td>\n",
       "      <td>679</td>\n",
       "      <td>92105</td>\n",
       "    </tr>\n",
       "    <tr>\n",
       "      <th>27</th>\n",
       "      <td>2010</td>\n",
       "      <td>572</td>\n",
       "      <td>92105</td>\n",
       "    </tr>\n",
       "    <tr>\n",
       "      <th>28</th>\n",
       "      <td>2011</td>\n",
       "      <td>486</td>\n",
       "      <td>92105</td>\n",
       "    </tr>\n",
       "    <tr>\n",
       "      <th>29</th>\n",
       "      <td>2012</td>\n",
       "      <td>519</td>\n",
       "      <td>92105</td>\n",
       "    </tr>\n",
       "    <tr>\n",
       "      <th>...</th>\n",
       "      <td>...</td>\n",
       "      <td>...</td>\n",
       "      <td>...</td>\n",
       "    </tr>\n",
       "    <tr>\n",
       "      <th>125</th>\n",
       "      <td>2008</td>\n",
       "      <td>464</td>\n",
       "      <td>92128</td>\n",
       "    </tr>\n",
       "    <tr>\n",
       "      <th>126</th>\n",
       "      <td>2009</td>\n",
       "      <td>379</td>\n",
       "      <td>92128</td>\n",
       "    </tr>\n",
       "    <tr>\n",
       "      <th>127</th>\n",
       "      <td>2010</td>\n",
       "      <td>354</td>\n",
       "      <td>92128</td>\n",
       "    </tr>\n",
       "    <tr>\n",
       "      <th>128</th>\n",
       "      <td>2011</td>\n",
       "      <td>288</td>\n",
       "      <td>92128</td>\n",
       "    </tr>\n",
       "    <tr>\n",
       "      <th>129</th>\n",
       "      <td>2012</td>\n",
       "      <td>260</td>\n",
       "      <td>92128</td>\n",
       "    </tr>\n",
       "    <tr>\n",
       "      <th>130</th>\n",
       "      <td>2008</td>\n",
       "      <td>1083</td>\n",
       "      <td>92129</td>\n",
       "    </tr>\n",
       "    <tr>\n",
       "      <th>131</th>\n",
       "      <td>2009</td>\n",
       "      <td>818</td>\n",
       "      <td>92129</td>\n",
       "    </tr>\n",
       "    <tr>\n",
       "      <th>132</th>\n",
       "      <td>2010</td>\n",
       "      <td>784</td>\n",
       "      <td>92129</td>\n",
       "    </tr>\n",
       "    <tr>\n",
       "      <th>133</th>\n",
       "      <td>2011</td>\n",
       "      <td>796</td>\n",
       "      <td>92129</td>\n",
       "    </tr>\n",
       "    <tr>\n",
       "      <th>134</th>\n",
       "      <td>2012</td>\n",
       "      <td>766</td>\n",
       "      <td>92129</td>\n",
       "    </tr>\n",
       "    <tr>\n",
       "      <th>135</th>\n",
       "      <td>2008</td>\n",
       "      <td>1133</td>\n",
       "      <td>92130</td>\n",
       "    </tr>\n",
       "    <tr>\n",
       "      <th>136</th>\n",
       "      <td>2009</td>\n",
       "      <td>1005</td>\n",
       "      <td>92130</td>\n",
       "    </tr>\n",
       "    <tr>\n",
       "      <th>137</th>\n",
       "      <td>2010</td>\n",
       "      <td>911</td>\n",
       "      <td>92130</td>\n",
       "    </tr>\n",
       "    <tr>\n",
       "      <th>138</th>\n",
       "      <td>2011</td>\n",
       "      <td>814</td>\n",
       "      <td>92130</td>\n",
       "    </tr>\n",
       "    <tr>\n",
       "      <th>139</th>\n",
       "      <td>2012</td>\n",
       "      <td>856</td>\n",
       "      <td>92130</td>\n",
       "    </tr>\n",
       "    <tr>\n",
       "      <th>140</th>\n",
       "      <td>2008</td>\n",
       "      <td>457</td>\n",
       "      <td>92139</td>\n",
       "    </tr>\n",
       "    <tr>\n",
       "      <th>141</th>\n",
       "      <td>2009</td>\n",
       "      <td>429</td>\n",
       "      <td>92139</td>\n",
       "    </tr>\n",
       "    <tr>\n",
       "      <th>142</th>\n",
       "      <td>2010</td>\n",
       "      <td>472</td>\n",
       "      <td>92139</td>\n",
       "    </tr>\n",
       "    <tr>\n",
       "      <th>143</th>\n",
       "      <td>2011</td>\n",
       "      <td>434</td>\n",
       "      <td>92139</td>\n",
       "    </tr>\n",
       "    <tr>\n",
       "      <th>144</th>\n",
       "      <td>2012</td>\n",
       "      <td>360</td>\n",
       "      <td>92139</td>\n",
       "    </tr>\n",
       "    <tr>\n",
       "      <th>145</th>\n",
       "      <td>2008</td>\n",
       "      <td>541</td>\n",
       "      <td>92154</td>\n",
       "    </tr>\n",
       "    <tr>\n",
       "      <th>146</th>\n",
       "      <td>2009</td>\n",
       "      <td>300</td>\n",
       "      <td>92154</td>\n",
       "    </tr>\n",
       "    <tr>\n",
       "      <th>147</th>\n",
       "      <td>2010</td>\n",
       "      <td>240</td>\n",
       "      <td>92154</td>\n",
       "    </tr>\n",
       "    <tr>\n",
       "      <th>148</th>\n",
       "      <td>2011</td>\n",
       "      <td>278</td>\n",
       "      <td>92154</td>\n",
       "    </tr>\n",
       "    <tr>\n",
       "      <th>149</th>\n",
       "      <td>2012</td>\n",
       "      <td>273</td>\n",
       "      <td>92154</td>\n",
       "    </tr>\n",
       "    <tr>\n",
       "      <th>150</th>\n",
       "      <td>2008</td>\n",
       "      <td>2218</td>\n",
       "      <td>92173</td>\n",
       "    </tr>\n",
       "    <tr>\n",
       "      <th>151</th>\n",
       "      <td>2009</td>\n",
       "      <td>1525</td>\n",
       "      <td>92173</td>\n",
       "    </tr>\n",
       "    <tr>\n",
       "      <th>152</th>\n",
       "      <td>2010</td>\n",
       "      <td>1413</td>\n",
       "      <td>92173</td>\n",
       "    </tr>\n",
       "    <tr>\n",
       "      <th>153</th>\n",
       "      <td>2011</td>\n",
       "      <td>1166</td>\n",
       "      <td>92173</td>\n",
       "    </tr>\n",
       "    <tr>\n",
       "      <th>154</th>\n",
       "      <td>2012</td>\n",
       "      <td>1176</td>\n",
       "      <td>92173</td>\n",
       "    </tr>\n",
       "  </tbody>\n",
       "</table>\n",
       "<p>155 rows × 3 columns</p>\n",
       "</div>"
      ],
      "text/plain": [
       "     year  crimecount zipcode\n",
       "0    2008        2151  92037 \n",
       "1    2009        1874  92037 \n",
       "2    2010        1637  92037 \n",
       "3    2011        1648  92037 \n",
       "4    2012        1621  92037 \n",
       "5    2008        1051  92101 \n",
       "6    2009        1144  92101 \n",
       "7    2010        1250  92101 \n",
       "8    2011        1097  92101 \n",
       "9    2012         985  92101 \n",
       "10   2008         755  92102 \n",
       "11   2009         680  92102 \n",
       "12   2010         606  92102 \n",
       "13   2011         500  92102 \n",
       "14   2012         469  92102 \n",
       "15   2008        1588  92103 \n",
       "16   2009        1543  92103 \n",
       "17   2010        1477  92103 \n",
       "18   2011        1559  92103 \n",
       "19   2012        1685  92103 \n",
       "20   2008        3308  92104 \n",
       "21   2009        3197  92104 \n",
       "22   2010        2912  92104 \n",
       "23   2011        2592  92104 \n",
       "24   2012        2433  92104 \n",
       "25   2008         782  92105 \n",
       "26   2009         679  92105 \n",
       "27   2010         572  92105 \n",
       "28   2011         486  92105 \n",
       "29   2012         519  92105 \n",
       "..    ...         ...     ...\n",
       "125  2008         464  92128 \n",
       "126  2009         379  92128 \n",
       "127  2010         354  92128 \n",
       "128  2011         288  92128 \n",
       "129  2012         260  92128 \n",
       "130  2008        1083  92129 \n",
       "131  2009         818  92129 \n",
       "132  2010         784  92129 \n",
       "133  2011         796  92129 \n",
       "134  2012         766  92129 \n",
       "135  2008        1133  92130 \n",
       "136  2009        1005  92130 \n",
       "137  2010         911  92130 \n",
       "138  2011         814  92130 \n",
       "139  2012         856  92130 \n",
       "140  2008         457  92139 \n",
       "141  2009         429  92139 \n",
       "142  2010         472  92139 \n",
       "143  2011         434  92139 \n",
       "144  2012         360  92139 \n",
       "145  2008         541  92154 \n",
       "146  2009         300  92154 \n",
       "147  2010         240  92154 \n",
       "148  2011         278  92154 \n",
       "149  2012         273  92154 \n",
       "150  2008        2218  92173 \n",
       "151  2009        1525  92173 \n",
       "152  2010        1413  92173 \n",
       "153  2011        1166  92173 \n",
       "154  2012        1176  92173 \n",
       "\n",
       "[155 rows x 3 columns]"
      ]
     },
     "execution_count": 22,
     "metadata": {},
     "output_type": "execute_result"
    }
   ],
   "source": [
    "dfsort"
   ]
  },
  {
   "cell_type": "code",
   "execution_count": 23,
   "metadata": {
    "collapsed": false
   },
   "outputs": [],
   "source": [
    "# Replacing space character with NULL character\n",
    "#dfsort['zipcode'] = [int(x.replace(\" \",\"\")) for x in dfsort['zipcode'][:]]"
   ]
  },
  {
   "cell_type": "code",
   "execution_count": 24,
   "metadata": {
    "collapsed": false
   },
   "outputs": [
    {
     "name": "stdout",
     "output_type": "stream",
     "text": [
      "     year  crimecount zipcode\n",
      "0    2008        2151  92037 \n",
      "1    2009        1874  92037 \n",
      "2    2010        1637  92037 \n",
      "3    2011        1648  92037 \n",
      "4    2012        1621  92037 \n",
      "5    2008        1051  92101 \n",
      "6    2009        1144  92101 \n",
      "7    2010        1250  92101 \n",
      "8    2011        1097  92101 \n",
      "9    2012         985  92101 \n",
      "10   2008         755  92102 \n",
      "11   2009         680  92102 \n",
      "12   2010         606  92102 \n",
      "13   2011         500  92102 \n",
      "14   2012         469  92102 \n",
      "15   2008        1588  92103 \n",
      "16   2009        1543  92103 \n",
      "17   2010        1477  92103 \n",
      "18   2011        1559  92103 \n",
      "19   2012        1685  92103 \n",
      "20   2008        3308  92104 \n",
      "21   2009        3197  92104 \n",
      "22   2010        2912  92104 \n",
      "23   2011        2592  92104 \n",
      "24   2012        2433  92104 \n",
      "25   2008         782  92105 \n",
      "26   2009         679  92105 \n",
      "27   2010         572  92105 \n",
      "28   2011         486  92105 \n",
      "29   2012         519  92105 \n",
      "..    ...         ...     ...\n",
      "125  2008         464  92128 \n",
      "126  2009         379  92128 \n",
      "127  2010         354  92128 \n",
      "128  2011         288  92128 \n",
      "129  2012         260  92128 \n",
      "130  2008        1083  92129 \n",
      "131  2009         818  92129 \n",
      "132  2010         784  92129 \n",
      "133  2011         796  92129 \n",
      "134  2012         766  92129 \n",
      "135  2008        1133  92130 \n",
      "136  2009        1005  92130 \n",
      "137  2010         911  92130 \n",
      "138  2011         814  92130 \n",
      "139  2012         856  92130 \n",
      "140  2008         457  92139 \n",
      "141  2009         429  92139 \n",
      "142  2010         472  92139 \n",
      "143  2011         434  92139 \n",
      "144  2012         360  92139 \n",
      "145  2008         541  92154 \n",
      "146  2009         300  92154 \n",
      "147  2010         240  92154 \n",
      "148  2011         278  92154 \n",
      "149  2012         273  92154 \n",
      "150  2008        2218  92173 \n",
      "151  2009        1525  92173 \n",
      "152  2010        1413  92173 \n",
      "153  2011        1166  92173 \n",
      "154  2012        1176  92173 \n",
      "\n",
      "[155 rows x 3 columns]\n"
     ]
    }
   ],
   "source": [
    "print(dfsort)"
   ]
  },
  {
   "cell_type": "markdown",
   "metadata": {},
   "source": [
    "# Visualizing Data"
   ]
  },
  {
   "cell_type": "code",
   "execution_count": 25,
   "metadata": {
    "collapsed": false
   },
   "outputs": [
    {
     "data": {
      "text/plain": [
       "['92037 ',\n",
       " '92101 ',\n",
       " '92102 ',\n",
       " '92103 ',\n",
       " '92104 ',\n",
       " '92105 ',\n",
       " '92106 ',\n",
       " '92107 ',\n",
       " '92108 ',\n",
       " '92109 ',\n",
       " '92110 ',\n",
       " '92111 ',\n",
       " '92113 ',\n",
       " '92114 ',\n",
       " '92115 ',\n",
       " '92116 ',\n",
       " '92117 ',\n",
       " '92119 ',\n",
       " '92120 ',\n",
       " '92121 ',\n",
       " '92122 ',\n",
       " '92123 ',\n",
       " '92124 ',\n",
       " '92126 ',\n",
       " '92127 ',\n",
       " '92128 ',\n",
       " '92129 ',\n",
       " '92130 ',\n",
       " '92139 ',\n",
       " '92154 ',\n",
       " '92173 ']"
      ]
     },
     "execution_count": 25,
     "metadata": {},
     "output_type": "execute_result"
    }
   ],
   "source": [
    "\n",
    "year_range = dfsort['year'].value_counts()\n",
    "years = len(year_range)\n",
    "year_list = list(year_range.keys())\n",
    "year_list = sorted(year_list, key=int)   \n",
    "\n",
    "zip_range = dfsort['zipcode'].value_counts()\n",
    "zip_num = len(zip_range)\n",
    "zip_list = list(zip_range.keys())\n",
    "zip_list = sorted(zip_list, key = int)\n",
    "zip_list\n",
    "\n"
   ]
  },
  {
   "cell_type": "code",
   "execution_count": 87,
   "metadata": {
    "collapsed": false
   },
   "outputs": [],
   "source": [
    "# Creates bread for all of the years\n",
    "crimebread = np.zeros((years,zip_num))\n",
    "for i in range(years):\n",
    "    for zips in zip_list:\n",
    "        crimebread[i][:] = dfsort['crimecount'][dfsort['year'] == year_list[i]]"
   ]
  },
  {
   "cell_type": "code",
   "execution_count": 89,
   "metadata": {
    "collapsed": false
   },
   "outputs": [
    {
     "data": {
      "image/png": "[encoded data removed]",
      "text/plain": [
       "<matplotlib.figure.Figure at 0x11352f978>"
      ]
     },
     "metadata": {},
     "output_type": "display_data"
    }
   ],
   "source": [
    "# graph crime rates throughout years 2007 - 2012 for all San Diego City Neighborhoods\n",
    "plt.xlabel('Years since 2007')\n",
    "plt.ylabel('Crime Rates in San Diego Neighborhoods')\n",
    "_ = plt.plot(crimebread[:][:])\n",
    "\n"
   ]
  },
  {
   "cell_type": "code",
   "execution_count": 94,
   "metadata": {
    "collapsed": true
   },
   "outputs": [],
   "source": [
    "# Creates bread for just one year\n",
    "crimeslice = crimebread[4][:]"
   ]
  },
  {
   "cell_type": "code",
   "execution_count": 95,
   "metadata": {
    "collapsed": false
   },
   "outputs": [
    {
     "data": {
      "image/png": "[encoded data removed]",
      "text/plain": [
       "<matplotlib.figure.Figure at 0x115bbbb70>"
      ]
     },
     "metadata": {},
     "output_type": "display_data"
    }
   ],
   "source": [
    "# graph crime rates throughout years 2007 - 2012 for all San Diego City Neighborhoods\n",
    "plt.xlabel('Zip codes')\n",
    "plt.ylabel('Crime Rates in San Diego Neighborhoods')\n",
    "_ = plt.plot(crimeslice[:][:])"
   ]
  },
  {
   "cell_type": "code",
   "execution_count": 140,
   "metadata": {
    "collapsed": false
   },
   "outputs": [
    {
     "name": "stdout",
     "output_type": "stream",
     "text": [
      "68    92054 92056 92057 92058 \n",
      "Name: Zipcode, dtype: object\n",
      "[]\n"
     ]
    }
   ],
   "source": [
    "listSelected = ['Oceanside', 'Vista', 'Coronado', 'National_City', 'Chula_Vista', 'Jamul', 'Spring_Valley', 'Lemon_Grove', 'La_Mesa', 'El_Cajon', 'Santee', 'Lakeside', 'Alpine', 'Poway', 'Ramona', 'Escondido', 'San_Marcos', 'Valley_Center', 'Fallbrook']\n",
    "crimezipss = []\n",
    "# if foo is None\n",
    "print(dfzip[dfzip.Area == 'Oceanside'].Zipcode)\n",
    "#crimezipss.append(dfzip[dfzip.Area == 'Oceanside'].Zipcode)\n",
    "#crimezipss.append(dfzip[dfzip.Area == 'Coronado'].Zipcode)\n",
    "print(crimezipss)\n",
    "\n"
   ]
  },
  {
   "cell_type": "code",
   "execution_count": 128,
   "metadata": {
    "collapsed": false
   },
   "outputs": [
    {
     "data": {
      "text/plain": [
       "<Container object of 31 artists>"
      ]
     },
     "execution_count": 128,
     "metadata": {},
     "output_type": "execute_result"
    },
    {
     "data": {
      "image/png": "[encoded data removed]",
      "text/plain": [
       "<matplotlib.figure.Figure at 0x113b84160>"
      ]
     },
     "metadata": {},
     "output_type": "display_data"
    },
    {
     "data": {
      "image/png": "[encoded data removed]",
      "text/plain": [
       "<matplotlib.figure.Figure at 0x1136d9f28>"
      ]
     },
     "metadata": {},
     "output_type": "display_data"
    },
    {
     "data": {
      "image/png": "[encoded data removed]",
      "text/plain": [
       "<matplotlib.figure.Figure at 0x1137d9fd0>"
      ]
     },
     "metadata": {},
     "output_type": "display_data"
    }
   ],
   "source": [
    "# prices across zipcodes color = each year\n",
    "plt.xlabel('zipcodes')\n",
    "plt.ylabel('crime rates in SD neighborhoods')\n",
    "zipcrime_2008 = []\n",
    "zipcrime_2009 = []\n",
    "zipcrime_2010 = []\n",
    "zipcrime_2011 = []\n",
    "zipcrime_2012 = []\n",
    "\n",
    "for j in range(len(crimebread)):\n",
    "    for i in range(len(crimebread[j])):\n",
    "        if j == 0:\n",
    "            zipcrime_2008.append(crimebread[j][i])\n",
    "        if j == 1:\n",
    "            zipcrime_2009.append(crimebread[j][i])\n",
    "        if j == 2:\n",
    "            zipcrime_2010.append(crimebread[j][i])\n",
    "        if j == 3:\n",
    "            zipcrime_2011.append(crimebread[j][i])\n",
    "        if j == 4:\n",
    "            zipcrime_2012.append(crimebread[j][i])\n",
    "\n",
    "\n",
    "\n",
    "plt.subplot(1,2,2)\n",
    "plt.title(year_list[0])\n",
    "plt.bar(list(range(31)), zipcrime_2008)\n",
    "\n",
    "plt.figure(2,figsize=(15,5))\n",
    "plt.subplot(1,2,1)\n",
    "plt.title(year_list[1])\n",
    "plt.bar(list(range(31)), zipcrime_2009)\n",
    "plt.subplot(1,2,2)\n",
    "plt.title(year_list[2])\n",
    "plt.bar(list(range(31)), zipcrime_2010)\n",
    "\n",
    "plt.figure(3,figsize=(15,5))\n",
    "plt.subplot(1,2,1)\n",
    "plt.title(year_list[3])\n",
    "plt.bar(list(range(31)), zipcrime_2011)\n",
    "plt.subplot(1,2,2)\n",
    "plt.title(year_list[4])\n",
    "plt.bar(list(range(31)), zipcrime_2012)"
   ]
  },
  {
   "cell_type": "code",
   "execution_count": 97,
   "metadata": {
    "collapsed": false
   },
   "outputs": [
    {
     "data": {
      "image/png": "[encoded data removed]",
      "text/plain": [
       "<matplotlib.figure.Figure at 0x114a26d68>"
      ]
     },
     "metadata": {},
     "output_type": "display_data"
    }
   ],
   "source": [
    "\n",
    "# accessing by each zipcode\n",
    "plt.xlabel('years since 2008')\n",
    "plt.ylabel('crime rates in neighborhood')\n",
    "# color: each zipcode\n",
    "_ = plt.plot(crimebread.T[:][11]) #La Jolla\n",
    "\n"
   ]
  },
  {
   "cell_type": "code",
   "execution_count": 98,
   "metadata": {
    "collapsed": true
   },
   "outputs": [],
   "source": [
    "# Change of crime rate"
   ]
  },
  {
   "cell_type": "markdown",
   "metadata": {
    "collapsed": true
   },
   "source": [
    "# Exporting Data"
   ]
  },
  {
   "cell_type": "code",
   "execution_count": 100,
   "metadata": {
    "collapsed": true
   },
   "outputs": [],
   "source": [
    "import matplotlib.pyplot as plt\n",
    "import h5py"
   ]
  },
  {
   "cell_type": "code",
   "execution_count": 104,
   "metadata": {
    "collapsed": false
   },
   "outputs": [],
   "source": [
    "#creating data\n",
    "#cogs108h5 = h5py.File('cogs108.h5', 'a')\n",
    "#cogs108h5.create_dataset('crime_rate_5y_all', data = crimeslice )\n",
    "#cogs108h5.close()"
   ]
  },
  {
   "cell_type": "code",
   "execution_count": null,
   "metadata": {
    "collapsed": true
   },
   "outputs": [],
   "source": [
    "#cogs108h5 = h5py.File('cogs108.h5', 'a')\n",
    "#cogs108h5.create_dataset('crime_rate_5y_selected', data = crimeslice )\n",
    "#cogs108h5.close()"
   ]
  },
  {
   "cell_type": "code",
   "execution_count": 102,
   "metadata": {
    "collapsed": true
   },
   "outputs": [],
   "source": [
    "#load data from h5 \n",
    "h5_file = 'cogs108.h5'"
   ]
  },
  {
   "cell_type": "code",
   "execution_count": 105,
   "metadata": {
    "collapsed": false
   },
   "outputs": [],
   "source": [
    "#reading data 2012\n",
    "with h5py.File(h5_file, 'r') as h5:\n",
    "    dset = h5['crime_rate_5y_all']"
   ]
  },
  {
   "cell_type": "code",
   "execution_count": null,
   "metadata": {
    "collapsed": true
   },
   "outputs": [],
   "source": [
    "#reading data for selected zip codes in 2012\n",
    "with h5py.File(h5_file, 'r') as h5:\n",
    "    dset = h5['crime_rate_5y_selected']"
   ]
  }
 ],
 "metadata": {
  "kernelspec": {
   "display_name": "Python 3",
   "language": "python",
   "name": "python3"
  },
  "language_info": {
   "codemirror_mode": {
    "name": "ipython",
    "version": 3
   },
   "file_extension": ".py",
   "mimetype": "text/x-python",
   "name": "python",
   "nbconvert_exporter": "python",
   "pygments_lexer": "ipython3",
   "version": "3.6.0"
  }
 },
 "nbformat": 4,
 "nbformat_minor": 2
}
