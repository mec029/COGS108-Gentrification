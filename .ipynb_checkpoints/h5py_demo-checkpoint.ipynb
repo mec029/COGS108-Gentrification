{
 "cells": [
  {
   "cell_type": "markdown",
   "metadata": {},
   "source": [
    "# How to use h5py"
   ]
  },
  {
   "cell_type": "code",
   "execution_count": 1,
   "metadata": {
    "collapsed": true
   },
   "outputs": [],
   "source": [
    "import numpy as np\n",
    "import pandas as pd\n",
    "import scipy as sp\n",
    "import scipy.io as io\n",
    "import scipy.signal as sig\n",
    "import math as math\n",
    "import random \n",
    "from scipy import integrate\n",
    "import matplotlib.pyplot as plt\n",
    "from mpl_toolkits.mplot3d import Axes3D\n",
    "%matplotlib inline\n",
    "plt.style.use('seaborn-colorblind')\n",
    "plt.rcParams['image.cmap'] = 'RdBu'"
   ]
  },
  {
   "cell_type": "markdown",
   "metadata": {},
   "source": [
    "File: cogs108 \n",
    "- #Rp (resident population)\n",
    "year x race ethnicity x gender \n",
    "RAYMOND\n",
    "- In (income)\n",
    "year x Income bracket x number of persons \n",
    "Abena\n",
    "- Cr (crime)\n",
    "year x Zip codes x category of crime\n",
    "Megan\n",
    "Y: zip code, X: category of crime\n",
    "3D matrix for numpy array\n",
    "- Hp (housing prices and transactions) \n",
    "year x Zip codes x average sales price, all homes \n",
    "Lauren"
   ]
  },
  {
   "cell_type": "code",
   "execution_count": null,
   "metadata": {
    "collapsed": true
   },
   "outputs": [],
   "source": [
    "import matplotlib.pyplot as plt\n",
    "import h5py\n",
    "\n",
    "#creating data\n",
    "cogs108h5 = h5py.File('cogs108.h5', 'a')\n",
    "cogs108h5.create_dataset('data_name', data = data )\n",
    "cogs108h5.close()\n",
    "\n",
    "\n",
    "#load data from h5 \n",
    "h5_file = '../cogs108/cogs108.h5'\n",
    "#reading data\n",
    "with h5py.File(h5_file, 'r') as h5:\n",
    "    dset = h5['data_name']"
   ]
  }
 ],
 "metadata": {
  "kernelspec": {
   "display_name": "Python 3",
   "language": "python",
   "name": "python3"
  },
  "language_info": {
   "codemirror_mode": {
    "name": "ipython",
    "version": 3
   },
   "file_extension": ".py",
   "mimetype": "text/x-python",
   "name": "python",
   "nbconvert_exporter": "python",
   "pygments_lexer": "ipython3",
   "version": "3.6.0"
  }
 },
 "nbformat": 4,
 "nbformat_minor": 2
}
