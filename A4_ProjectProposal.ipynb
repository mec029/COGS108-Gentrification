{
 "cells": [
  {
   "cell_type": "markdown",
   "metadata": {},
   "source": [
    "# COGS 108 - Assignment 4: Project Proposal"
   ]
  },
  {
   "cell_type": "markdown",
   "metadata": {},
   "source": [
    "## Important\n",
    "\n",
    "- Make sure all group member (3-5 people) are listed in the group members section.\n",
    "- ONE, and only one, member of your group should upload this notebook to TritonED. \n",
    "- Each member of the group will receive the same grade on this assignment. \n",
    "- Keep the file name the same: submit the file 'A4_ProjectProposal.ipynb'"
   ]
  },
  {
   "cell_type": "markdown",
   "metadata": {},
   "source": [
    "## Overview"
   ]
  },
  {
   "cell_type": "markdown",
   "metadata": {},
   "source": [
    "Read the project description, and detailed instructions for this assignment, in the 'A4_ProjectOutlineAndProposal' pdf."
   ]
  },
  {
   "cell_type": "markdown",
   "metadata": {},
   "source": [
    "## Group Members: Fill in the Student ID's of each group member here\n",
    "- A12120333\n",
    "- A12367273\n",
    "- A12276759\n",
    "- A12831428"
   ]
  },
  {
   "cell_type": "markdown",
   "metadata": {},
   "source": [
    "### Research Question\n",
    "\n",
    "What is your research question? (1-2 sentences)"
   ]
  },
  {
   "cell_type": "markdown",
   "metadata": {},
   "source": [
    "How does gentrification contribute to changes in San Diego demographics? In particular, how do factors such as crime, home value, housing income and racial diversity change as a result of gentrification."
   ]
  },
  {
   "cell_type": "markdown",
   "metadata": {},
   "source": [
    "### Hypothesis\n",
    "\n",
    "What is your prediction (2-3 sentences)"
   ]
  },
  {
   "cell_type": "markdown",
   "metadata": {},
   "source": [
    "Overtime, the overall rate of crime in a gentrified neighborhood does decrease, however within San Diego county the overall crime rates remain constant. This suggests that the crime is not eradicated--but simply displaced or distributed to other non-gentrified neighborhoods."
   ]
  },
  {
   "cell_type": "markdown",
   "metadata": {},
   "source": [
    "### Dataset(s)\n",
    "\n",
    "What data will you use to answer your question? Describe the dataset in terms of number of observations, what kind of features it contains, etc. You must use at least one dataset containing at least approximately 1000 observations (if your data are smaller but you feel they are sufficient, email Prof. Voytek). You are welcome (and in fact recommended) to find multiple datasets! If you do so, describe each one, and briefly explain how you will combine them together. "
   ]
  },
  {
   "cell_type": "markdown",
   "metadata": {},
   "source": [
    "- Dataset Name: Housing Cost Burden 2006-2010\n",
    "- Link to the dataset: https://dev.socrata.com/foundry/chhs.data.ca.gov/ghwp-jd8i\n",
    "- Number of observations: 521000 statewide observations and 37000 San Diego observations\n",
    "\n",
    "This dataset is based off information on the percentage of households paying more than 30% (or 50%) on monthly household income towards housing costs in California from 2006-2010. \n",
    "\n",
    "\n",
    " - Dataset Name: Housing Crowding 2006-2010\n",
    " - Link to the dataset: https://chhs.data.ca.gov/Environment/Housing-Crowding-2006-2010/i88u-9vkv\n",
    " - Number of observations: 19000 statewide observations and 600 San Diego countywide observations\n",
    " \n",
    "This dataset’s information is based off the percentage of households that are overcrowded (>1.0 persons per room) and severe overcrowding (>1.5 persons per room) in California from 2006-2010. \n",
    "\n",
    "\n",
    " - Dataset Name: Unemployment 2006-2010\n",
    " - Link to the dataset: https://chhs.data.ca.gov/Demographics/Unemployment-2004-2013/u729-zehn/data\n",
    " - Number of observations: 106000 statewide observations and 7000 San Diego countywide observations\n",
    "\n",
    "This dataset’s information focuses on the percentage of the population in the labor force who are unemployed in California from 2004-2013.\n",
    "\n",
    "\n",
    " - Dataset Name: House Price Index up to 2016\n",
    " - Link to the dataset: https://www.fhfa.gov/DataTools/Downloads/Pages/House-Price-Index-Datasets.aspx#mpo\n",
    " - Number of observations: 79691 Nationwide County Data\n",
    "\n",
    "This dataset’s information serves as an accurate indicator of house price trends at various geographic level for the whole country from 1986-2016. It’s characterized by observations in state, county, year, annual change percentage, house price index (HPI), HIP with 1990 base, and HPI with 2000 base.\n",
    "\n",
    "\n",
    "- Dataset Name: Violent Crime Rate California 2006-2010\n",
    "- Link to the dataset:https://www.healthdata.gov/dataset/violent-crime-rate-california-2006-2010\n",
    " - Number of observations: 7981 nationwide county data\n",
    "\n",
    "This dataset’s information focuses on the rate of violent crime in California from 2006-2010. It’s characterized by observations in report year, race/ethnicity, county name, region name, and rate of violent crimes (murder, homicide, rape, sexual assault, manslaughter, aggravated assault, robbery).\n",
    "\n",
    "\n",
    "We will combine data by comparing housing data (which is categorized by the different areas) in order to cross reference and get a better sense of the population demographics within San Diego. This will allow us to not only gain the overall quantitative data of housing, but also the change that occurs in the cities overtime. "
   ]
  },
  {
   "cell_type": "markdown",
   "metadata": {},
   "source": [
    "### Background & Prior Work\n",
    "\n",
    "Why is this question of interest, what background information led you to your hypothesis, and why is this important?\n",
    "\n",
    "Find some relevant prior work, and reference them. Even if you think you have a totally novel question, find the most similar prior work you can, and discuss how it relates to your project. \n",
    "\n",
    "References can be research publications, but they need not be: blogs, github repositories, company websites, etc., are viable references if they are relevant to your project.\n",
    "\n",
    "(2-3 paragraphs, including at least 2 references)"
   ]
  },
  {
   "cell_type": "markdown",
   "metadata": {},
   "source": [
    "In general gentrification is a term for the arrival of wealthier people in an existing urban district, a related increase in rents and property values, and changes in the district's character and culture. The term is often used negatively, suggesting the displacement of poor communities by rich outsiders. The effects of gentrification are complex and oftentimes contradictory, and its real impact varies. People have many thoughts on the true and lasting effects gentrification has on particular areas.\n",
    "\n",
    "Gentrification is commonly disputed due to varied perspectives towards the effects on the communities touched by the process. In an attempt to make neighborhoods more “middle-class,” some believe that gentrification disproportionately targets underrepresented and low income families. Critics claim that gentrification (often forcefully) pushes these marginalized groups to less-privileged and oftentimes under-resourced areas, while catering to an influx of wealthy (ie white) populations. On the other hand, those in favor of gentrification believe that the process tends to decrease crime, while adding diversity to neighborhoods that may be predominantly one race or ethnicity. This topic is one that is definitely widely contested. It still continues to affect many communities in the US today.\n",
    "\n",
    "In today’s age, areas within the US are oftentimes sectioned off into 3 tracts: gentrified, non-gentrified, and ineligible to be gentrified. A tract is eligible to gentrify if its median household income and median home value are both in the bottom 40th percentile of all tracts within a metro area at the beginning of the decade.\n",
    "\n",
    "\n",
    "References (include a link):\n",
    "- 1) http://www.governing.com/gov-data/gentrification-in-cities-governing-report.html\n",
    "\n",
    "- 2) http://www.npr.org/2014/03/13/289798823/gentrification-progress-or-destruction\n",
    "\n",
    "- 4) https://nextcity.org/daily/entry/new-york-neighborhood-gentrification-new-report\n"
   ]
  },
  {
   "cell_type": "markdown",
   "metadata": {},
   "source": [
    "### Proposed Methods\n",
    "\n",
    "What methods will you use to analyze your data?\n",
    "\n",
    "- How 'clean' is the data? To the extent that it requires cleaning, how will you do so?\n",
    "- How will you analyze the data? Be as specific as you can. Briefly mention any pre-processing steps that are required for your methods (for example, checking data distributions and performing any transformations that may be required). Include a brief outline of how you will apply your chosen method(s). \n",
    "- What do you plan to report? Briefly mention any key visualizations you plan to create, and/or the kind of result you will be able to report that addresses your question (this could be, for example, the outcome of some statistical test(s), prediction error on a model, a model fit parameter, etc.).\n",
    "- Include a list of packages you expect to use for you project. If you plan to use packages we have not used in class, add a very brief description about them (a few words is sufficient). "
   ]
  },
  {
   "cell_type": "markdown",
   "metadata": {},
   "source": [
    "*Fill in your proposed methods information here:*\n",
    "\n",
    "*Data Cleaning (2-3 sentences)*\n",
    "We referenced government websites with open data sources and pulled the available information on housing, demographics, and crime rates. These data sets are commonly found in the form of CSV or JSON; however, for data contained in excel spreadsheets, we will convert the files into CSV files. After loading both CSV and JSON files into data frames by utilizing the functions given in pandas, we will sort data pertaining to different regions by zip code or neighborhood.\n",
    "\n",
    "*Data Analysis (1-2 paragraphs)*\n",
    "In order to thoroughly test our hypothesis, and answer our overall research question, we have designed a methodology that will help us both isolate and analyze gentrified areas throughout San Diego. We will first give a broad summary of our overall methodology, and then will describe the particular applications of data science that we will use to both observe and analyze the data sets that contribute to our research.\n",
    "\n",
    "First we will start by actually identifying these gentrified neighborhoods. We will perform this classification by separating the populations present in San Diego county into different categories. These categories will include home value, housing income, and racial diversity within each city. Once we have identified the gentrified neighborhoods present, we will then begin to look at the crime rates associated with these areas. We will look at the crime rates present both pre- and post-gentrification, and then compare this to the overall (city-wide) crime-rates within that same time frame. With these two data sets, we will determine whether or not a particular neighborhood’s decrease in crime directly correlated to a decrease in city-wide crime as well. These patterns of crime rate over time will be used to determine if gentrification favors the idea that crime in these areas are truly eliminated, or instead simply removed and uprooted to other areas within San Diego.\n",
    "\n",
    "*What to report (2-3 sentences)*\n",
    "These datasets may also have outliers and other biases we need to identify and avoid. In order to examine that, we will identify the mean, median, and mode to determine the L2 errors (mean squared error) and L1 errors as well as resampling. By simply plotting the data and visualizing the data, we will be able to see certain trends and possible outliers. This methodology will allow us to sift through the large amounts of data present and isolate the points/factors that are relevant to our particular research question.\n",
    "\n",
    "Packages we plan to use:\n",
    "- numpy\n",
    "- pandas\n",
    "- h5py\n",
    "- statsmodels\n",
    "- patsy\n",
    "- bokeh"
   ]
  },
  {
   "cell_type": "markdown",
   "metadata": {},
   "source": [
    "### Discussion\n",
    "\n",
    "What are the pitfalls and potential confounds of your data and/or methods? For example, how might biases in your data sources or analyses influence your interpretations? What will you do if you methods don't work and/or your hypotheses are wrong?\n",
    "\n",
    "(2-3 paragraphs)"
   ]
  },
  {
   "cell_type": "markdown",
   "metadata": {},
   "source": [
    "In the data collected, pitfalls may include misinterpretation regarding rates in crime. Crime falls into multiple categories like theft, assault, sex crimes, and drug/alcohol violations. Within a neighborhood undergoing gentrification, it is possible that violent crimes may decrease while the the number of theft increases. This discrepancy in crime counts may skew the data in a way that does not clearly reflect the community’s overall perceived sense of safety. Moreover, the results derived from the data is limited to only suggesting a trend based on crime and socioeconomic determinants; thus, it is not possible to conclude the direct effects of gentrification. Aside from crime rates, additional data sets to look at include economic diversity, food insecurity, and poverty level.\n",
    "\n",
    "Given more time, grids could be artificially drawn out within the geography of San Diego in order to map out the movement of populations between regions. To gain more insights on resident migration, comparisons may be drawn from age,  job, and education level. Creating a geospatial visualization to track these movements would further reveal other trends that may not be as easily seen on a simple line or bar graph.\n"
   ]
  }
 ],
 "metadata": {
  "kernelspec": {
   "display_name": "Python 3",
   "language": "python",
   "name": "python3"
  },
  "language_info": {
   "codemirror_mode": {
    "name": "ipython",
    "version": 3
   },
   "file_extension": ".py",
   "mimetype": "text/x-python",
   "name": "python",
   "nbconvert_exporter": "python",
   "pygments_lexer": "ipython3",
   "version": "3.6.0"
  }
 },
 "nbformat": 4,
 "nbformat_minor": 2
}
