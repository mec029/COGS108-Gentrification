{
 "cells": [
  {
   "cell_type": "code",
   "execution_count": 346,
   "metadata": {
    "collapsed": true
   },
   "outputs": [],
   "source": [
    "import numpy as np\n",
    "import pandas as pd\n",
    "import scipy as sp\n",
    "import scipy.io as io\n",
    "import scipy.signal as sig\n",
    "import math as math\n",
    "import random \n",
    "from scipy import integrate\n",
    "import matplotlib.pyplot as plt\n",
    "from mpl_toolkits.mplot3d import Axes3D\n",
    "%matplotlib inline\n",
    "plt.style.use('seaborn-colorblind')\n",
    "plt.rcParams['image.cmap'] = 'RdBu'"
   ]
  },
  {
   "cell_type": "code",
   "execution_count": 347,
   "metadata": {
    "collapsed": false
   },
   "outputs": [],
   "source": [
    "dfCrime08 = pd.read_excel('../crime08.xls')\n",
    "dfCrime09 = pd.read_excel('../crime09.xls')\n",
    "dfCrime10 = pd.read_excel('../crime10.xls')\n",
    "dfCrime11 = pd.read_excel('../crime11.xls')\n",
    "dfCrime12 = pd.read_excel('../crime12.xls')"
   ]
  },
  {
   "cell_type": "markdown",
   "metadata": {},
   "source": [
    "# Cleaning Data"
   ]
  },
  {
   "cell_type": "code",
   "execution_count": 348,
   "metadata": {
    "collapsed": false
   },
   "outputs": [],
   "source": [
    "dfCrime08.drop(dfCrime08.head(3).index, inplace=True)\n",
    "dfCrime09.drop(dfCrime09.head(3).index, inplace=True)\n",
    "dfCrime10.drop(dfCrime10.head(3).index, inplace=True)\n",
    "dfCrime11.drop(dfCrime11.head(3).index, inplace=True)\n",
    "dfCrime12.drop(dfCrime12.head(3).index, inplace=True)\n",
    "#dfCrime08.head(10)"
   ]
  },
  {
   "cell_type": "code",
   "execution_count": 349,
   "metadata": {
    "collapsed": false
   },
   "outputs": [],
   "source": [
    "dfCrime08 = dfCrime08.reset_index()\n",
    "del dfCrime08['index']\n",
    "\n",
    "dfCrime09 = dfCrime09.reset_index()\n",
    "del dfCrime09['index']\n",
    "\n",
    "dfCrime10 = dfCrime10.reset_index()\n",
    "del dfCrime10['index']\n",
    "\n",
    "dfCrime11 = dfCrime11.reset_index()\n",
    "del dfCrime11['index']\n",
    "\n",
    "dfCrime12 = dfCrime12.reset_index()\n",
    "del dfCrime12['index']"
   ]
  },
  {
   "cell_type": "code",
   "execution_count": 350,
   "metadata": {
    "collapsed": false
   },
   "outputs": [],
   "source": [
    "\n",
    "dfCrime08.columns = dfCrime08.iloc[0]\n",
    "dfCrime08 = dfCrime08[1:]\n",
    "\n",
    "dfCrime09.columns = dfCrime09.iloc[0]\n",
    "dfCrime09 = dfCrime09[1:]\n",
    "\n",
    "dfCrime10.columns = dfCrime10.iloc[0]\n",
    "dfCrime10 = dfCrime10[1:]\n",
    "\n",
    "dfCrime11.columns = dfCrime11.iloc[0]\n",
    "dfCrime11 = dfCrime11[1:]\n",
    "\n",
    "dfCrime12.columns = dfCrime12.iloc[0]\n",
    "dfCrime12 = dfCrime12[1:]"
   ]
  },
  {
   "cell_type": "code",
   "execution_count": 351,
   "metadata": {
    "collapsed": false
   },
   "outputs": [],
   "source": [
    "dfCrime08 = dfCrime08.reset_index()\n",
    "del dfCrime08['index']\n",
    "\n",
    "dfCrime09 = dfCrime09.reset_index()\n",
    "del dfCrime09['index']\n",
    "\n",
    "dfCrime10 = dfCrime10.reset_index()\n",
    "del dfCrime10['index']\n",
    "\n",
    "dfCrime11 = dfCrime11.reset_index()\n",
    "del dfCrime11['index']\n",
    "\n",
    "dfCrime12 = dfCrime12.reset_index()\n",
    "del dfCrime12['index']"
   ]
  },
  {
   "cell_type": "markdown",
   "metadata": {},
   "source": [
    "# Total Amount of crimes for each year"
   ]
  },
  {
   "cell_type": "markdown",
   "metadata": {},
   "source": [
    "0   2008        Carlsbad        1362\n",
    "1   2008     Chula_Vista        3060\n",
    "2   2008        Coronado         402\n",
    "3   2008         Del_Mar         118\n",
    "4   2008        El_Cajon        1386\n",
    "5   2008       Encinitas         574\n",
    "6   2008       Escondido        1809\n",
    "7   2008  Imperial_Beach         273\n",
    "8   2008         La_Mesa         879\n",
    "9   2008     Lemon_Grove         411\n",
    "10  2008   National_City        1418\n",
    "11  2008       Oceanside        2503\n",
    "12  2008           Poway         453\n",
    "13  2008      San_Marcos         868\n",
    "14  2008          Santee         584\n",
    "15  2008    Solana_Beach         174\n",
    "16  2008           Vista        1390\n",
    "85"
   ]
  },
  {
   "cell_type": "code",
   "execution_count": 352,
   "metadata": {
    "collapsed": false
   },
   "outputs": [],
   "source": [
    "#dfCrime08=dfCrime08.dropna(axis=1,how='all')\n",
    "#print(dfCrime08.head(5))"
   ]
  },
  {
   "cell_type": "code",
   "execution_count": 353,
   "metadata": {
    "collapsed": false
   },
   "outputs": [
    {
     "data": {
      "text/html": [
       "<div>\n",
       "<table border=\"1\" class=\"dataframe\">\n",
       "  <thead>\n",
       "    <tr style=\"text-align: right;\">\n",
       "      <th></th>\n",
       "      <th>City</th>\n",
       "      <th>Population</th>\n",
       "      <th>Violent\n",
       "crime</th>\n",
       "      <th>Murder and\n",
       "nonnegligent\n",
       "manslaughter</th>\n",
       "      <th>Forcible\n",
       "rape</th>\n",
       "      <th>Robbery</th>\n",
       "      <th>Aggravated\n",
       "assault</th>\n",
       "      <th>Property\n",
       "crime</th>\n",
       "      <th>Burglary</th>\n",
       "      <th>Larceny-\n",
       "theft</th>\n",
       "      <th>Motor\n",
       "vehicle\n",
       "theft</th>\n",
       "      <th>Arson</th>\n",
       "    </tr>\n",
       "  </thead>\n",
       "  <tbody>\n",
       "    <tr>\n",
       "      <th>270</th>\n",
       "      <td>National City</td>\n",
       "      <td>59920</td>\n",
       "      <td>371</td>\n",
       "      <td>4</td>\n",
       "      <td>18</td>\n",
       "      <td>165</td>\n",
       "      <td>184</td>\n",
       "      <td>1863</td>\n",
       "      <td>366</td>\n",
       "      <td>1090</td>\n",
       "      <td>407</td>\n",
       "      <td>30</td>\n",
       "    </tr>\n",
       "  </tbody>\n",
       "</table>\n",
       "</div>"
      ],
      "text/plain": [
       "0             City Population Violent\\ncrime  \\\n",
       "270  National City      59920            371   \n",
       "\n",
       "0   Murder and\\nnonnegligent\\nmanslaughter Forcible\\nrape Robbery  \\\n",
       "270                                      4             18     165   \n",
       "\n",
       "0   Aggravated\\nassault Property\\ncrime Burglary Larceny-\\ntheft  \\\n",
       "270                 184            1863      366            1090   \n",
       "\n",
       "0   Motor\\nvehicle\\ntheft Arson  \n",
       "270                   407    30  "
      ]
     },
     "execution_count": 353,
     "metadata": {},
     "output_type": "execute_result"
    }
   ],
   "source": [
    "dfCrime12[dfCrime12.City == \"National City\"]"
   ]
  },
  {
   "cell_type": "code",
   "execution_count": 354,
   "metadata": {
    "collapsed": false
   },
   "outputs": [
    {
     "name": "stdout",
     "output_type": "stream",
     "text": [
      "4705\n"
     ]
    }
   ],
   "source": [
    "totalCrimes = []\n",
    "\n",
    "rcb = []\n",
    "rcv = []\n",
    "rco = []\n",
    "rdm = []\n",
    "rec = []\n",
    "ren = []\n",
    "res = []\n",
    "rib = []\n",
    "rlm = []\n",
    "rlg = []\n",
    "rnc = []\n",
    "roc = []\n",
    "rpo = []\n",
    "rsm = []\n",
    "rsa = []\n",
    "rsb = []\n",
    "rvi = []\n",
    "\n",
    "tcb = 0\n",
    "tcv = 0\n",
    "tco = 0\n",
    "tdm = 0\n",
    "tec = 0\n",
    "ten = 0\n",
    "tes = 0\n",
    "tib = 0\n",
    "tlg = 0\n",
    "tlm = 0\n",
    "tnc = 0\n",
    "toc = 0\n",
    "tpo = 0\n",
    "tsm = 0\n",
    "tsa = 0\n",
    "tsb = 0\n",
    "tvi = 0\n",
    "\n",
    "# ------------ 2008 ------------ \n",
    "# Calculates the crime counts for each region in 2008\n",
    "cb = np.sum(dfCrime08[dfCrime08.City == \"Carlsbad\"].sum()[2:])\n",
    "cv = np.sum(dfCrime08[dfCrime08.City == \"Chula Vista\"].sum()[2:])\n",
    "co = np.sum(dfCrime08[dfCrime08.City == \"Coronado\"].sum()[2:])\n",
    "dm = np.sum(dfCrime08[dfCrime08.City == \"Del Mar\"].sum()[2:])\n",
    "ec = np.sum(dfCrime08[dfCrime08.City == \"El Cajon\"].sum()[2:])\n",
    "en = np.sum(dfCrime08[dfCrime08.City == \"Encinitas\"].sum()[2:])\n",
    "es = np.sum(dfCrime08[dfCrime08.City == \"Escondido\"].sum()[2:])\n",
    "ib = np.sum(dfCrime08[dfCrime08.City == \"Imperial Beach\"].sum()[2:])\n",
    "lm = np.sum(dfCrime08[dfCrime08.City == \"La Mesa\"].sum()[2:])\n",
    "lg = np.sum(dfCrime08[dfCrime08.City == \"Lemon Grove\"].sum()[2:])\n",
    "nc = np.sum(dfCrime08[dfCrime08.City == \"National City\"].sum()[2:])\n",
    "oc = np.sum(dfCrime08[dfCrime08.City == \"Oceanside\"].sum()[2:])\n",
    "po = np.sum(dfCrime08[dfCrime08.City == \"Poway\"].sum()[2:])\n",
    "sm = np.sum(dfCrime08[dfCrime08.City == \"San Marcos\"].sum()[2:])\n",
    "sa = np.sum(dfCrime08[dfCrime08.City == \"Santee\"].sum()[2:])\n",
    "sb = np.sum(dfCrime08[dfCrime08.City == \"Solana Beach\"].sum()[2:])\n",
    "vi = np.sum(dfCrime08[dfCrime08.City == \"Vista\"].sum()[2:])\n",
    "\n",
    "# Appending the crime rates for the each year for the given year\n",
    "rcb.append((cb/int(dfCrime08[dfCrime08.City == \"Carlsbad\"].Population)))\n",
    "rcv.append((cv/int(dfCrime08[dfCrime08.City == \"Chula Vista\"].Population)))\n",
    "rco.append((co/int(dfCrime08[dfCrime08.City == \"Coronado\"].Population)))\n",
    "rdm.append((dm/int(dfCrime08[dfCrime08.City == \"Del Mar\"].Population)))\n",
    "rec.append((ec/int(dfCrime08[dfCrime08.City == \"El Cajon\"].Population)))\n",
    "ren.append((en/int(dfCrime08[dfCrime08.City == \"Encinitas\"].Population)))\n",
    "res.append((es/int(dfCrime08[dfCrime08.City == \"Escondido\"].Population)))\n",
    "rib.append((ib/int(dfCrime08[dfCrime08.City == \"Imperial Beach\"].Population)))\n",
    "rlm.append((lm/int(dfCrime08[dfCrime08.City == \"La Mesa\"].Population)))\n",
    "rlg.append((lg/int(dfCrime08[dfCrime08.City == \"Lemon Grove\"].Population)))\n",
    "rnc.append((nc/int(dfCrime08[dfCrime08.City == \"National City\"].Population)))\n",
    "roc.append((oc/int(dfCrime08[dfCrime08.City == \"Oceanside\"].Population)))\n",
    "rpo.append((po/int(dfCrime08[dfCrime08.City == \"Poway\"].Population)))\n",
    "rsm.append((sm/int(dfCrime08[dfCrime08.City == \"San Marcos\"].Population)))\n",
    "rsa.append((sa/int(dfCrime08[dfCrime08.City == \"Santee\"].Population)))\n",
    "rsb.append((sb/int(dfCrime08[dfCrime08.City == \"Solana Beach\"].Population)))\n",
    "rvi.append((vi/int(dfCrime08[dfCrime08.City == \"Vista\"].Population)))\n",
    "\n",
    "# Increments the total amount of crimes for each region\n",
    "tcb += cb\n",
    "tcv += cv\n",
    "tco += co\n",
    "tdm += dm\n",
    "tec += ec\n",
    "ten += en\n",
    "tes += es\n",
    "tib += ib\n",
    "tlm += lm\n",
    "tlg += lg\n",
    "tnc += nc\n",
    "toc += oc\n",
    "tpo += po \n",
    "tsm += sm\n",
    "tsa += sa\n",
    "tsb += sb\n",
    "tvi += vi\n",
    "\n",
    "# Total amount of crimes for 2008\n",
    "total08 = cb+cv+co+dm+ec+en+es+ib+lm+lg+nc+oc+po+sm+sa+sb+vi\n",
    "totalCrimes.append(total08)\n",
    "\n",
    "\n",
    "\n",
    "\n",
    "\n",
    "# ------------ 2009 ------------ \n",
    "# Calculates the crime counts for each region in 2009\n",
    "cb = np.sum(dfCrime09[dfCrime09.City == \"Carlsbad\"].sum()[2:])\n",
    "cv = np.sum(dfCrime09[dfCrime09.City == \"Chula Vista\"].sum()[2:])\n",
    "co = np.sum(dfCrime09[dfCrime09.City == \"Coronado\"].sum()[2:])\n",
    "dm = np.sum(dfCrime09[dfCrime09.City == \"Del Mar\"].sum()[2:])\n",
    "ec = np.sum(dfCrime09[dfCrime09.City == \"El Cajon\"].sum()[2:])\n",
    "en = np.sum(dfCrime09[dfCrime09.City == \"Encinitas\"].sum()[2:])\n",
    "es = np.sum(dfCrime09[dfCrime09.City == \"Escondido\"].sum()[2:])\n",
    "ib = np.sum(dfCrime09[dfCrime09.City == \"Imperial Beach\"].sum()[2:])\n",
    "lm = np.sum(dfCrime09[dfCrime09.City == \"La Mesa\"].sum()[2:])\n",
    "lg = np.sum(dfCrime09[dfCrime09.City == \"Lemon Grove\"].sum()[2:])\n",
    "nc = np.sum(dfCrime09[dfCrime09.City == \"National City\"].sum()[2:])\n",
    "oc = np.sum(dfCrime09[dfCrime09.City == \"Oceanside\"].sum()[2:])\n",
    "po = np.sum(dfCrime09[dfCrime09.City == \"Poway\"].sum()[2:])\n",
    "sm = np.sum(dfCrime09[dfCrime09.City == \"San Marcos\"].sum()[2:])\n",
    "sa = np.sum(dfCrime09[dfCrime09.City == \"Santee\"].sum()[2:])\n",
    "sb = np.sum(dfCrime09[dfCrime09.City == \"Solana Beach\"].sum()[2:])\n",
    "vi = np.sum(dfCrime09[dfCrime09.City == \"Vista\"].sum()[2:])\n",
    "\n",
    "print(nc)\n",
    "\n",
    "# Appending the crime rates for the each year for the given year\n",
    "rcb.append((cb/int(dfCrime09[dfCrime09.City == \"Carlsbad\"].Population)))\n",
    "rcv.append((cv/int(dfCrime09[dfCrime09.City == \"Chula Vista\"].Population)))\n",
    "rco.append((co/int(dfCrime09[dfCrime09.City == \"Coronado\"].Population)))\n",
    "rdm.append((dm/int(dfCrime09[dfCrime09.City == \"Del Mar\"].Population)))\n",
    "rec.append((ec/int(dfCrime09[dfCrime09.City == \"El Cajon\"].Population)))\n",
    "ren.append((en/int(dfCrime09[dfCrime09.City == \"Encinitas\"].Population)))\n",
    "res.append((es/int(dfCrime09[dfCrime09.City == \"Escondido\"].Population)))\n",
    "rib.append((ib/int(dfCrime09[dfCrime09.City == \"Imperial Beach\"].Population)))\n",
    "rlm.append((lm/int(dfCrime09[dfCrime09.City == \"La Mesa\"].Population)))\n",
    "rlg.append((lg/int(dfCrime09[dfCrime09.City == \"Lemon Grove\"].Population)))\n",
    "rnc.append((nc/int(dfCrime09[dfCrime09.City == \"National City\"].Population)))\n",
    "roc.append((oc/int(dfCrime09[dfCrime09.City == \"Oceanside\"].Population)))\n",
    "rpo.append((po/int(dfCrime09[dfCrime09.City == \"Poway\"].Population)))\n",
    "rsm.append((sm/int(dfCrime09[dfCrime09.City == \"San Marcos\"].Population)))\n",
    "rsa.append((sa/int(dfCrime09[dfCrime09.City == \"Santee\"].Population)))\n",
    "rsb.append((sb/int(dfCrime09[dfCrime09.City == \"Solana Beach\"].Population)))\n",
    "rvi.append((vi/int(dfCrime09[dfCrime09.City == \"Vista\"].Population)))\n",
    "\n",
    "# Increments the total amount of crimes for each region\n",
    "tcb += cb\n",
    "tcv += cv\n",
    "tco += co\n",
    "tdm += dm\n",
    "tec += ec\n",
    "ten += en\n",
    "tes += es\n",
    "tib += ib\n",
    "tlm += lm\n",
    "tlg += lg\n",
    "tnc += nc\n",
    "toc += oc\n",
    "tpo += po \n",
    "tsm += sm\n",
    "tsa += sa\n",
    "tsb += sb\n",
    "tvi += vi\n",
    "\n",
    "# Total amount of crimes for 2009\n",
    "tcb += cb\n",
    "total09 = cb+cv+co+dm+ec+en+es+ib+lm+lg+nc+oc+po+sm+sa+sb+vi\n",
    "totalCrimes.append(total09)\n",
    "\n",
    "\n",
    "\n",
    "\n",
    "\n",
    "# ------------ 2010 ------------ \n",
    "# Calculates the crime counts for each region in 2010\n",
    "cb = np.sum(dfCrime10[dfCrime10.City == \"Carlsbad\"].sum()[2:])\n",
    "cv = np.sum(dfCrime10[dfCrime10.City == \"Chula Vista\"].sum()[2:])\n",
    "co = np.sum(dfCrime10[dfCrime10.City == \"Coronado\"].sum()[2:])\n",
    "dm = np.sum(dfCrime10[dfCrime10.City == \"Del Mar\"].sum()[2:])\n",
    "ec = np.sum(dfCrime10[dfCrime10.City == \"El Cajon\"].sum()[2:])\n",
    "en = np.sum(dfCrime10[dfCrime10.City == \"Encinitas\"].sum()[2:])\n",
    "es = np.sum(dfCrime10[dfCrime10.City == \"Escondido\"].sum()[2:])\n",
    "ib = np.sum(dfCrime10[dfCrime10.City == \"Imperial Beach\"].sum()[2:])\n",
    "lm = np.sum(dfCrime10[dfCrime10.City == \"La Mesa\"].sum()[2:])\n",
    "lg = np.sum(dfCrime10[dfCrime10.City == \"Lemon Grove\"].sum()[2:])\n",
    "nc = np.sum(dfCrime10[dfCrime10.City == \"National City\"].sum()[2:])\n",
    "oc = np.sum(dfCrime10[dfCrime10.City == \"Oceanside\"].sum()[2:])\n",
    "po = np.sum(dfCrime10[dfCrime10.City == \"Poway\"].sum()[2:])\n",
    "sm = np.sum(dfCrime10[dfCrime10.City == \"San Marcos\"].sum()[2:])\n",
    "sa = np.sum(dfCrime10[dfCrime10.City == \"Santee\"].sum()[2:])\n",
    "sb = np.sum(dfCrime10[dfCrime10.City == \"Solana Beach\"].sum()[2:])\n",
    "vi = np.sum(dfCrime10[dfCrime10.City == \"Vista\"].sum()[2:])\n",
    "\n",
    "# Appending the crime rates for the each year for the given year\n",
    "rcb.append((cb/int(dfCrime10[dfCrime10.City == \"Carlsbad\"].Population)))\n",
    "rcv.append((cv/int(dfCrime10[dfCrime10.City == \"Chula Vista\"].Population)))\n",
    "rco.append((co/int(dfCrime10[dfCrime10.City == \"Coronado\"].Population)))\n",
    "rdm.append((dm/int(dfCrime10[dfCrime10.City == \"Del Mar\"].Population)))\n",
    "rec.append((ec/int(dfCrime10[dfCrime10.City == \"El Cajon\"].Population)))\n",
    "ren.append((en/int(dfCrime10[dfCrime10.City == \"Encinitas\"].Population)))\n",
    "res.append((es/int(dfCrime10[dfCrime10.City == \"Escondido\"].Population)))\n",
    "rib.append((ib/int(dfCrime10[dfCrime10.City == \"Imperial Beach\"].Population)))\n",
    "rlm.append((lm/int(dfCrime10[dfCrime10.City == \"La Mesa\"].Population)))\n",
    "rlg.append((lg/int(dfCrime10[dfCrime10.City == \"Lemon Grove\"].Population)))\n",
    "rnc.append((nc/int(dfCrime10[dfCrime10.City == \"National City\"].Population)))\n",
    "roc.append((oc/int(dfCrime10[dfCrime10.City == \"Oceanside\"].Population)))\n",
    "rpo.append((po/int(dfCrime10[dfCrime10.City == \"Poway\"].Population)))\n",
    "rsm.append((sm/int(dfCrime10[dfCrime10.City == \"San Marcos\"].Population)))\n",
    "rsa.append((sa/int(dfCrime10[dfCrime10.City == \"Santee\"].Population)))\n",
    "rsb.append((sb/int(dfCrime10[dfCrime10.City == \"Solana Beach\"].Population)))\n",
    "rvi.append((vi/int(dfCrime10[dfCrime10.City == \"Vista\"].Population)))\n",
    "\n",
    "# Increments the total amount of crimes for each region\n",
    "tcb += cb\n",
    "tcv += cv\n",
    "tco += co\n",
    "tdm += dm\n",
    "tec += ec\n",
    "ten += en\n",
    "tes += es\n",
    "tib += ib\n",
    "tlm += lm\n",
    "tlg += lg\n",
    "tnc += nc\n",
    "toc += oc\n",
    "tpo += po \n",
    "tsm += sm\n",
    "tsa += sa\n",
    "tsb += sb\n",
    "tvi += vi\n",
    "\n",
    "# Total amount of crimes for 2010\n",
    "total10 = cb+cv+co+dm+ec+en+es+ib+lm+lg+nc+oc+po+sm+sa+sb+vi\n",
    "totalCrimes.append(total10)\n",
    "\n",
    "\n",
    "\n",
    "\n",
    "\n",
    "# ------------ 2011 ------------ \n",
    "# Calculates the crime counts for each region in 2011\n",
    "cb = np.sum(dfCrime11[dfCrime11.City == \"Carlsbad\"].sum()[2:])\n",
    "cv = np.sum(dfCrime11[dfCrime11.City == \"Chula Vista\"].sum()[2:])\n",
    "co = np.sum(dfCrime11[dfCrime11.City == \"Coronado\"].sum()[2:])\n",
    "dm = np.sum(dfCrime11[dfCrime11.City == \"Del Mar\"].sum()[2:])\n",
    "ec = np.sum(dfCrime11[dfCrime11.City == \"El Cajon\"].sum()[2:])\n",
    "en = np.sum(dfCrime11[dfCrime11.City == \"Encinitas\"].sum()[2:])\n",
    "es = np.sum(dfCrime11[dfCrime11.City == \"Escondido\"].sum()[2:])\n",
    "ib = np.sum(dfCrime11[dfCrime11.City == \"Imperial Beach\"].sum()[2:])\n",
    "lm = np.sum(dfCrime11[dfCrime11.City == \"La Mesa\"].sum()[2:])\n",
    "lg = np.sum(dfCrime11[dfCrime11.City == \"Lemon Grove\"].sum()[2:])\n",
    "nc = np.sum(dfCrime11[dfCrime11.City == \"National City\"].sum()[2:])\n",
    "oc = np.sum(dfCrime11[dfCrime11.City == \"Oceanside\"].sum()[2:])\n",
    "po = np.sum(dfCrime11[dfCrime11.City == \"Poway\"].sum()[2:])\n",
    "sm = np.sum(dfCrime11[dfCrime11.City == \"San Marcos\"].sum()[2:])\n",
    "sa = np.sum(dfCrime11[dfCrime11.City == \"Santee\"].sum()[2:])\n",
    "sb = np.sum(dfCrime11[dfCrime11.City == \"Solana Beach\"].sum()[2:])\n",
    "vi = np.sum(dfCrime11[dfCrime11.City == \"Vista\"].sum()[2:])\n",
    "\n",
    "\n",
    "# Appending the crime rates for the each year for the given year\n",
    "rcb.append((cb/int(dfCrime11[dfCrime11.City == \"Carlsbad\"].Population)))\n",
    "rcv.append((cv/int(dfCrime11[dfCrime11.City == \"Chula Vista\"].Population)))\n",
    "rco.append((co/int(dfCrime11[dfCrime11.City == \"Coronado\"].Population)))\n",
    "rdm.append((dm/int(dfCrime11[dfCrime11.City == \"Del Mar\"].Population)))\n",
    "rec.append((ec/int(dfCrime11[dfCrime11.City == \"El Cajon\"].Population)))\n",
    "ren.append((en/int(dfCrime11[dfCrime11.City == \"Encinitas\"].Population)))\n",
    "res.append((es/int(dfCrime11[dfCrime11.City == \"Escondido\"].Population)))\n",
    "rib.append((ib/int(dfCrime11[dfCrime11.City == \"Imperial Beach\"].Population)))\n",
    "rlm.append((lm/int(dfCrime11[dfCrime11.City == \"La Mesa\"].Population)))\n",
    "rlg.append((lg/int(dfCrime11[dfCrime11.City == \"Lemon Grove\"].Population)))\n",
    "rnc.append((nc/int(dfCrime11[dfCrime11.City == \"National City\"].Population)))\n",
    "roc.append((oc/int(dfCrime11[dfCrime11.City == \"Oceanside\"].Population)))\n",
    "rpo.append((po/int(dfCrime11[dfCrime11.City == \"Poway\"].Population)))\n",
    "rsm.append((sm/int(dfCrime11[dfCrime11.City == \"San Marcos\"].Population)))\n",
    "rsa.append((sa/int(dfCrime11[dfCrime11.City == \"Santee\"].Population)))\n",
    "rsb.append((sb/int(dfCrime11[dfCrime11.City == \"Solana Beach\"].Population)))\n",
    "rvi.append((vi/int(dfCrime11[dfCrime11.City == \"Vista\"].Population)))\n",
    "\n",
    "# Increments the total amount of crimes for each region\n",
    "tcb += cb\n",
    "tcv += cv\n",
    "tco += co\n",
    "tdm += dm\n",
    "tec += ec\n",
    "ten += en\n",
    "tes += es\n",
    "tib += ib\n",
    "tlm += lm\n",
    "tlg += lg\n",
    "tnc += nc\n",
    "toc += oc\n",
    "tpo += po \n",
    "tsm += sm\n",
    "tsa += sa\n",
    "tsb += sb\n",
    "tvi += vi\n",
    "\n",
    "# Total amount of crimes for 2011\n",
    "total11 = cb+cv+co+dm+ec+en+es+ib+lm+lg+nc+oc+po+sm+sa+sb+vi\n",
    "totalCrimes.append(total11)\n",
    "\n",
    "\n",
    "\n",
    "\n",
    "\n",
    "# ------------ 2012 ------------ \n",
    "# Calculates the crime counts for each region in 2012\n",
    "cb = np.sum(dfCrime12[dfCrime12.City == \"Carlsbad\"].sum()[2:])\n",
    "cv = np.sum(dfCrime12[dfCrime12.City == \"Chula Vista\"].sum()[2:])\n",
    "co = np.sum(dfCrime12[dfCrime12.City == \"Coronado\"].sum()[2:])\n",
    "dm = np.sum(dfCrime12[dfCrime12.City == \"Del Mar\"].sum()[2:])\n",
    "ec = np.sum(dfCrime12[dfCrime12.City == \"El Cajon\"].sum()[2:])\n",
    "en = np.sum(dfCrime12[dfCrime12.City == \"Encinitas\"].sum()[2:])\n",
    "es = np.sum(dfCrime12[dfCrime12.City == \"Escondido\"].sum()[2:])\n",
    "ib = np.sum(dfCrime12[dfCrime12.City == \"Imperial Beach\"].sum()[2:])\n",
    "lm = np.sum(dfCrime12[dfCrime12.City == \"La Mesa\"].sum()[2:])\n",
    "lg = np.sum(dfCrime12[dfCrime12.City == \"Lemon Grove\"].sum()[2:])\n",
    "nc = np.sum(dfCrime12[dfCrime12.City == \"National City\"].sum()[2:])\n",
    "oc = np.sum(dfCrime12[dfCrime12.City == \"Oceanside\"].sum()[2:])\n",
    "po = np.sum(dfCrime12[dfCrime12.City == \"Poway\"].sum()[2:])\n",
    "sm = np.sum(dfCrime12[dfCrime12.City == \"San Marcos\"].sum()[2:])\n",
    "sa = np.sum(dfCrime12[dfCrime12.City == \"Santee\"].sum()[2:])\n",
    "sb = np.sum(dfCrime12[dfCrime12.City == \"Solana Beach\"].sum()[2:])\n",
    "vi = np.sum(dfCrime12[dfCrime12.City == \"Vista\"].sum()[2:])\n",
    "\n",
    "\n",
    "# Appending the crime rates for the each year for the given year\n",
    "rcb.append((cb/int(dfCrime12[dfCrime12.City == \"Carlsbad\"].Population)))\n",
    "rcv.append((cv/int(dfCrime12[dfCrime12.City == \"Chula Vista\"].Population)))\n",
    "rco.append((co/int(dfCrime12[dfCrime12.City == \"Coronado\"].Population)))\n",
    "rdm.append((dm/int(dfCrime12[dfCrime12.City == \"Del Mar\"].Population)))\n",
    "rec.append((ec/int(dfCrime12[dfCrime12.City == \"El Cajon\"].Population)))\n",
    "ren.append((en/int(dfCrime12[dfCrime12.City == \"Encinitas\"].Population)))\n",
    "res.append((es/int(dfCrime12[dfCrime12.City == \"Escondido\"].Population)))\n",
    "rib.append((ib/int(dfCrime12[dfCrime12.City == \"Imperial Beach\"].Population)))\n",
    "rlm.append((lm/int(dfCrime12[dfCrime12.City == \"La Mesa\"].Population)))\n",
    "rlg.append((lg/int(dfCrime12[dfCrime12.City == \"Lemon Grove\"].Population)))\n",
    "rnc.append((nc/int(dfCrime12[dfCrime12.City == \"National City\"].Population)))\n",
    "roc.append((oc/int(dfCrime12[dfCrime12.City == \"Oceanside\"].Population)))\n",
    "rpo.append((po/int(dfCrime12[dfCrime12.City == \"Poway\"].Population)))\n",
    "rsm.append((sm/int(dfCrime12[dfCrime12.City == \"San Marcos\"].Population)))\n",
    "rsa.append((sa/int(dfCrime12[dfCrime12.City == \"Santee\"].Population)))\n",
    "rsb.append((sb/int(dfCrime12[dfCrime12.City == \"Solana Beach\"].Population)))\n",
    "rvi.append((vi/int(dfCrime12[dfCrime12.City == \"Vista\"].Population)))\n",
    "\n",
    "\n",
    "# Increments the total amount of crimes for each region\n",
    "tcb += cb\n",
    "tcv += cv\n",
    "tco += co\n",
    "tdm += dm\n",
    "tec += ec\n",
    "ten += en\n",
    "tes += es\n",
    "tib += ib\n",
    "tlm += lm\n",
    "tlg += lg\n",
    "tnc += nc\n",
    "toc += oc\n",
    "tpo += po \n",
    "tsm += sm\n",
    "tsa += sa\n",
    "tsb += sb\n",
    "tvi += vi\n",
    "\n",
    "# Total amount of crimes for 2012\n",
    "total12 = cb+cv+co+dm+ec+en+es+ib+lm+lg+nc+oc+po+sm+sa+sb+vi\n",
    "totalCrimes.append(total12)\n",
    "\n"
   ]
  },
  {
   "cell_type": "markdown",
   "metadata": {},
   "source": [
    "# Visualizaitons"
   ]
  },
  {
   "cell_type": "code",
   "execution_count": 355,
   "metadata": {
    "collapsed": false
   },
   "outputs": [
    {
     "name": "stdout",
     "output_type": "stream",
     "text": [
      "Total amount of crimes in 2008: 79604\n",
      "Total amount of crimes in 2009: 70067\n",
      "Total amount of crimes in 2010: 68224\n",
      "Total amount of crimes in 2011: 64420\n",
      "Total amount of crimes in 2012: 68647\n",
      " \n",
      "Total crime counts: [79604, 70067, 68224, 64420, 68647]\n",
      " \n",
      "Total crime rates for Oceanside [0.08991412695740024, 0.07943609657268276, 0.080984538830638, 0.07386411567208247, 0.07506675567423231]\n"
     ]
    }
   ],
   "source": [
    "print(\"Total amount of crimes in 2008: \" + str(total08))\n",
    "print(\"Total amount of crimes in 2009: \" + str(total09))\n",
    "print(\"Total amount of crimes in 2010: \" + str(total10))\n",
    "print(\"Total amount of crimes in 2011: \" + str(total11))\n",
    "print(\"Total amount of crimes in 2012: \" + str(total12))\n",
    "\n",
    "print(\" \")\n",
    "\n",
    "print(\"Total crime counts: \" + str(totalCrimes))\n",
    "print(\" \")\n",
    "\n",
    "print(\"Total crime rates for Oceanside \" + str(rnc))"
   ]
  },
  {
   "cell_type": "code",
   "execution_count": 356,
   "metadata": {
    "collapsed": false
   },
   "outputs": [
    {
     "data": {
      "text/plain": [
       "[<matplotlib.lines.Line2D at 0x122946a20>]"
      ]
     },
     "execution_count": 356,
     "metadata": {},
     "output_type": "execute_result"
    },
    {
     "data": {
      "image/png": "[encoded data removed]",
      "text/plain": [
       "<matplotlib.figure.Figure at 0x11e34f8d0>"
      ]
     },
     "metadata": {},
     "output_type": "display_data"
    }
   ],
   "source": [
    "plt.title(\"Crime Rates in Oceanside\")\n",
    "plt.xlabel('Years since 2008')\n",
    "plt.ylabel('crime count / population')\n",
    "plt.plot(roc)"
   ]
  },
  {
   "cell_type": "code",
   "execution_count": 357,
   "metadata": {
    "collapsed": false
   },
   "outputs": [
    {
     "data": {
      "text/plain": [
       "[<matplotlib.lines.Line2D at 0x122b49710>]"
      ]
     },
     "execution_count": 357,
     "metadata": {},
     "output_type": "execute_result"
    },
    {
     "data": {
      "image/png": "[encoded data removed]",
      "text/plain": [
       "<matplotlib.figure.Figure at 0x11e2b2ac8>"
      ]
     },
     "metadata": {},
     "output_type": "display_data"
    }
   ],
   "source": [
    "plt.title(\"Crime Rates in San Diego County\")\n",
    "plt.xlabel('Years since 2008')\n",
    "plt.ylabel('crime count / population')\n",
    "plt.plot(rcb)\n",
    "plt.plot(rcv)\n",
    "plt.plot(rco)\n",
    "plt.plot(rdm)\n",
    "plt.plot(rec)\n",
    "\n",
    "plt.plot(ren)\n",
    "plt.plot(res)\n",
    "plt.plot(rib)\n",
    "plt.plot(rlm)\n",
    "plt.plot(rlg)\n",
    "plt.plot(rnc)\n",
    "\n",
    "plt.plot(roc)\n",
    "plt.plot(rpo)\n",
    "plt.plot(rsm)\n",
    "plt.plot(rsa)\n",
    "plt.plot(rsb)\n",
    "plt.plot(rvi)\n",
    "\n",
    "#cb+cv+co+dm+ec+en+es+ib+lm+lg+nc+oc+po+sm+sa+sb+vi\n"
   ]
  },
  {
   "cell_type": "markdown",
   "metadata": {},
   "source": [
    "# Creating the bread"
   ]
  },
  {
   "cell_type": "markdown",
   "metadata": {},
   "source": [
    "rcb = []\n",
    "rcv = []\n",
    "rco = []\n",
    "rdm = []\n",
    "rec = []\n",
    "ren = []\n",
    "res = []\n",
    "rib = []\n",
    "rlm = []\n",
    "rlg = []\n",
    "rnc = []\n",
    "roc = []\n",
    "rpo = []\n",
    "rsm = []\n",
    "rsa = []\n",
    "rsb = []\n",
    "rvi = []\n"
   ]
  },
  {
   "cell_type": "code",
   "execution_count": 358,
   "metadata": {
    "collapsed": false
   },
   "outputs": [
    {
     "name": "stdout",
     "output_type": "stream",
     "text": [
      "[[ 0.05300502  0.04469852  0.04020466  0.04093238  0.04407716]\n",
      " [ 0.06588394  0.05358009  0.05063302  0.04615391  0.04543089]\n",
      " [ 0.05397903  0.04910595  0.04243635  0.04066114  0.05432928]\n",
      " [ 0.08465011  0.09678868  0.0649978   0.09263658  0.10602862]\n",
      " [ 0.08438059  0.06658664  0.06699113  0.05969378  0.0547102 ]\n",
      " [ 0.03874707  0.04115464  0.03539694  0.0390913   0.04749016]\n",
      " [ 0.06977613  0.06578526  0.06596664  0.0510223   0.06136268]\n",
      " [ 0.0708183   0.05813515  0.04436949  0.04336725  0.0458525 ]\n",
      " [ 0.08483477  0.0735964   0.07970493  0.06110572  0.06708986]\n",
      " [ 0.06893094  0.05667375  0.0561871   0.04317277  0.04411538]\n",
      " [ 0.08991413  0.0794361   0.08098454  0.07386412  0.07506676]\n",
      " [ 0.05897866  0.05576302  0.05257589  0.05300207  0.05874104]\n",
      " [ 0.03983843  0.0332509   0.02467506  0.02933455  0.02673174]\n",
      " [ 0.04463597  0.0399718   0.04497377  0.03917844  0.04033329]\n",
      " [ 0.04991915  0.0432752   0.04017431  0.04107992  0.04617916]\n",
      " [ 0.0553465   0.0414617   0.04458062  0.04240283  0.05113421]\n",
      " [ 0.06702669  0.05993293  0.0544602   0.05089691  0.04896604]]\n"
     ]
    }
   ],
   "source": [
    "years = 5\n",
    "cities = 17\n",
    "\n",
    "\n",
    "crimebread = np.concatenate(( np.array([rcb]), np.array([rcv]), np.array([rco]), np.array([rdm]), np.array([rec]), np.array([ren]), np.array([res]), np.array([rib]), np.array([rlm]), np.array([rlg]), np.array([rnc]), np.array([roc]), np.array([rpo]), np.array([rsm]), np.array([rsa]), np.array([rsb]), np.array([rvi])), axis=0)\n",
    "print(crimebread)"
   ]
  },
  {
   "cell_type": "code",
   "execution_count": 359,
   "metadata": {
    "collapsed": true
   },
   "outputs": [],
   "source": [
    "crimebread = crimebread[:][:].T"
   ]
  },
  {
   "cell_type": "code",
   "execution_count": 360,
   "metadata": {
    "collapsed": false
   },
   "outputs": [
    {
     "data": {
      "image/png": "[encoded data removed]",
      "text/plain": [
       "<matplotlib.figure.Figure at 0x1228e55f8>"
      ]
     },
     "metadata": {},
     "output_type": "display_data"
    }
   ],
   "source": [
    "plt.xlabel('Years since 2007')\n",
    "plt.ylabel('Crime Rates in San Diego Neighborhoods')\n",
    "_ = plt.plot(crimebread[:][:])"
   ]
  },
  {
   "cell_type": "markdown",
   "metadata": {},
   "source": [
    "\n",
    "# "
   ]
  },
  {
   "cell_type": "code",
   "execution_count": null,
   "metadata": {
    "collapsed": true
   },
   "outputs": [],
   "source": []
  }
 ],
 "metadata": {
  "kernelspec": {
   "display_name": "Python 3",
   "language": "python",
   "name": "python3"
  },
  "language_info": {
   "codemirror_mode": {
    "name": "ipython",
    "version": 3
   },
   "file_extension": ".py",
   "mimetype": "text/x-python",
   "name": "python",
   "nbconvert_exporter": "python",
   "pygments_lexer": "ipython3",
   "version": "3.6.0"
  }
 },
 "nbformat": 4,
 "nbformat_minor": 2
}
